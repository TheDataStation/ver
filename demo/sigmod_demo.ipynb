{
 "cells": [
  {
   "cell_type": "markdown",
   "metadata": {},
   "source": [
    "# Ver Introduction\n",
    "\n",
    "Ver is a data discovery system that identifies project-join views over large repositories of tables that do not contain join path information. We deploy Ver on [Chicago Open Data](https://data.cityofchicago.org/) and showcase its capacity to assist a school counselor in identifying a view related to school information. Ver enables the counselor to specify the data needs via an example query, searches for relevant views, distills the results, and finally guides them to the right view by asking a series of data-related questions.\n",
    "\n",
    "<p align=\"center\">\n",
    "     <img src=\"../docs/img/architecture.jpeg\" width=\"400\">\n",
    "</p>\n"
   ]
  },
  {
   "cell_type": "markdown",
   "metadata": {},
   "source": [
    "# Setup Ver\n",
    "\n",
    "Initiate a Ver instance"
   ]
  },
  {
   "cell_type": "code",
   "execution_count": null,
   "metadata": {
    "pycharm": {
     "name": "#%%\n"
    }
   },
   "outputs": [],
   "source": [
    "from demo import Ver\n",
    "ver = Ver(data_path=\"/Users/yuegong/Desktop/chicago_open_data_all_05_18/\")"
   ]
  },
  {
   "cell_type": "markdown",
   "metadata": {
    "pycharm": {
     "name": "#%% md\n"
    }
   },
   "source": [
    "# View Specification\n",
    "\n",
    "Anna is a school counselor in Chicago and she wants to help parents and students choose which schools to attend. The data she needs is a table that contains information about every public school in Chicago, including the school name, its school type (e.g., Charter, Neighborhood, etc), and its school day (e.g., Full day, half day).\n",
    "\n",
    "Anna knows the information about a few schools in Chicago. For example, Ogden International High School has the type Charter and its school day is half day; Hyde Park High School has the type Neighborhood and its school day is full day. She would like the final view to include these examples. The QBE interface of View-Specification enables Anna to specify the example data to illustrate the view she desires."
   ]
  },
  {
   "cell_type": "code",
   "execution_count": null,
   "metadata": {
    "pycharm": {
     "name": "#%%\n"
    }
   },
   "outputs": [],
   "source": [
    "ver.view_specification()"
   ]
  },
  {
   "cell_type": "markdown",
   "metadata": {},
   "source": [
    "# Examine candidate columns and join graphs\n",
    "\n",
    "Ver provides APIs for users to examine candidate columns and the join graphs to assemble these views."
   ]
  },
  {
   "cell_type": "markdown",
   "metadata": {},
   "source": [
    "## Show candidate columns"
   ]
  },
  {
   "cell_type": "code",
   "execution_count": null,
   "metadata": {},
   "outputs": [],
   "source": [
    "ver.show_candidate_columns()"
   ]
  },
  {
   "cell_type": "markdown",
   "metadata": {},
   "source": [
    "## Show join graphs"
   ]
  },
  {
   "cell_type": "code",
   "execution_count": null,
   "metadata": {},
   "outputs": [],
   "source": [
    "ver.show_join_graphs()"
   ]
  },
  {
   "cell_type": "markdown",
   "metadata": {
    "pycharm": {
     "name": "#%% md\n"
    }
   },
   "source": [
    "# Help users locate the right view\n",
    "\n",
    "We find more than 100 views! It is overwhelming to go through these views manually. How to reduce the veiw search space and help users find the right view?\n",
    "\n",
    "## View Distillation\n",
    "\n",
    "View-Distillation reduces the view search space by first classifying candidate views into four categories and then applying a distillation strategy."
   ]
  },
  {
   "cell_type": "code",
   "execution_count": null,
   "metadata": {},
   "outputs": [],
   "source": [
    "ver.view_distillation()"
   ]
  },
  {
   "cell_type": "markdown",
   "metadata": {},
   "source": [
    "## View Presentation\n",
    "\n",
    "View-Presentation analyzes the views and generates questions that aid in ranking and selecting the most relevant views. "
   ]
  },
  {
   "cell_type": "code",
   "execution_count": null,
   "metadata": {},
   "outputs": [],
   "source": [
    "ver.view_presentation()"
   ]
  },
  {
   "cell_type": "code",
   "execution_count": null,
   "metadata": {},
   "outputs": [],
   "source": []
  }
 ],
 "metadata": {
  "kernelspec": {
   "display_name": "ver_demo",
   "language": "python",
   "name": "ver_demo"
  },
  "language_info": {
   "codemirror_mode": {
    "name": "ipython",
    "version": 3
   },
   "file_extension": ".py",
   "mimetype": "text/x-python",
   "name": "python",
   "nbconvert_exporter": "python",
   "pygments_lexer": "ipython3",
   "version": "3.11.5"
  },
  "vscode": {
   "interpreter": {
    "hash": "2fb261eea298a7c85b2d6bc4859c7e7049f2f8679536c1acbbbf9e11136db3f1"
   }
  }
 },
 "nbformat": 4,
 "nbformat_minor": 1
}
