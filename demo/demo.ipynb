{
 "cells": [
  {
   "cell_type": "code",
   "execution_count": 1,
   "metadata": {
    "pycharm": {
     "name": "#%%\n"
    }
   },
   "outputs": [],
   "source": [
    "import os.path\n",
    "\n",
    "from qbe_demo import Demo, ExampleColumn, Colors"
   ]
  },
  {
   "cell_type": "code",
   "execution_count": 2,
   "metadata": {
    "pycharm": {
     "name": "#%%\n"
    }
   },
   "outputs": [],
   "source": [
    "# from knowledgerepr import fieldnetwork\n",
    "# from modelstore.elasticstore import StoreHandler\n",
    "# from algebra import API\n",
    "# from qbe_module.column_selection import ColumnSelection\n",
    "# from qbe_module.query_by_example import ExampleColumn, QueryByExample\n",
    "# from qbe_module.materializer import Materializer\n",
    "# from ver_demo import Demo"
   ]
  },
  {
   "cell_type": "code",
   "execution_count": 3,
   "metadata": {
    "pycharm": {
     "name": "#%%\n"
    }
   },
   "outputs": [],
   "source": [
    "# data_path = '/home/cc/chicago_open_data/'\n",
    "# graph_path = '/home/cc/chicago_open_data_graph/'\n",
    "# store_client = StoreHandler()\n",
    "# network = fieldnetwork.deserialize_network(graph_path)\n",
    "# aurum_api = API(network=network, store_client=store_client)\n",
    "# # demo = Demo(aurum_api)\n",
    "# demo = Demo(None)"
   ]
  },
  {
   "cell_type": "code",
   "execution_count": 4,
   "metadata": {
    "pycharm": {
     "name": "#%%\n"
    }
   },
   "outputs": [],
   "source": [
    "# qbe_demo = Demo(None)"
   ]
  },
  {
   "cell_type": "code",
   "execution_count": 5,
   "metadata": {
    "pycharm": {
     "name": "#%%\n"
    }
   },
   "outputs": [],
   "source": [
    "# qbe_demo.qbe_interface()"
   ]
  },
  {
   "cell_type": "code",
   "execution_count": 6,
   "metadata": {
    "pycharm": {
     "name": "#%%\n"
    }
   },
   "outputs": [],
   "source": [
    "# import ipywidgets as widgets\n",
    "# from IPython.display import display, clear_output, HTML\n",
    "\n",
    "# candidate_list = []\n",
    "# example_columns = []\n",
    "\n",
    "# row_num = 3\n",
    "# col_num = 3\n",
    "\n",
    "# default_values = [[\"\", \"\", \"\"], [\"Ogden International High School\", \"IB\", \"Level 1\"],\n",
    "#                   [\"Hyde Park High School\", \"General Education\", \"Level 2\"]]\n",
    "\n",
    "# attr_style = \"<style>.attr input { background-color:#D0F0D0 !important; }</style>\"\n",
    "# x = [[widgets.Text(value=default_values[i][j]) for j in range(col_num)] for i in range(row_num)]\n",
    "\n",
    "# out = widgets.Output()\n",
    "\n",
    "# button1 = widgets.Button(description=\"Add Column\")\n",
    "# button2 = widgets.Button(description=\"Remove Column\")\n",
    "# button3 = widgets.Button(description=\"Add Row\")\n",
    "# button4 = widgets.Button(description=\"Remove Row\")\n",
    "# button5 = widgets.Button(description=\"Confirm\")\n",
    "\n",
    "# @out.capture()\n",
    "# def draw():\n",
    "#     attr_line = [widgets.HTML(attr_style)]\n",
    "#     attr_line.extend([item.add_class('attr') for item in x[0]])\n",
    "#     attrs = widgets.HBox(attr_line)\n",
    "#     display(widgets.VBox([attrs] + [widgets.HBox(x[i]) for i in range(1, row_num)]))\n",
    "#     # display(widgets.VBox([widgets.HBox(x[i]) for i in range(1, row_num)]))\n",
    "\n",
    "# @out.capture()\n",
    "# def display_all():\n",
    "#     display(widgets.HBox([button1, button2, button3, button4]))\n",
    "#     draw()\n",
    "#     # display(out)\n",
    "#     display(button5)\n",
    "\n",
    "# @out.capture()\n",
    "# def add_column(_):\n",
    "#     global col_num\n",
    "#     global x\n",
    "#     global out\n",
    "#     col_num += 1\n",
    "#     for i in range(row_num):\n",
    "#         x[i].append(widgets.Text())\n",
    "#     out.clear_output()\n",
    "#     with out:\n",
    "#         display_all()\n",
    "\n",
    "# @out.capture()\n",
    "# def remove_column(_):\n",
    "#     global col_num\n",
    "#     global x\n",
    "#     global out\n",
    "#     for i in range(row_num):\n",
    "#         w = x[i].pop()\n",
    "#         w.close()\n",
    "#     col_num -= 1\n",
    "#     out.clear_output()\n",
    "#     with out:\n",
    "#         display_all()\n",
    "\n",
    "# @out.capture()\n",
    "# def add_row(_):\n",
    "#     global row_num\n",
    "#     global x\n",
    "#     global out\n",
    "#     row_num += 1\n",
    "#     x.append([widgets.Text() for _ in range(col_num)])\n",
    "#     out.clear_output()\n",
    "#     with out:\n",
    "#         display_all()\n",
    "\n",
    "# @out.capture()\n",
    "# def remove_row(_):\n",
    "#     global row_num\n",
    "#     global x\n",
    "#     global out\n",
    "#     ws = x.pop()\n",
    "#     for w in ws:\n",
    "#         w.close()\n",
    "#     row_num -= 1\n",
    "#     out.clear_output()\n",
    "#     with out:\n",
    "#         display_all()\n",
    "\n",
    "# def confirm(_):\n",
    "#     global values\n",
    "#     global attrs\n",
    "#     global example_columns\n",
    "#     values = []\n",
    "#     attrs = []\n",
    "#     candidate_list = [[] for _ in range(col_num)]\n",
    "#     for i in range(row_num):\n",
    "#         row = []\n",
    "#         for j in range(col_num):\n",
    "#             if i == 0:\n",
    "#                 attrs.append(x[i][j].value)\n",
    "#             else:\n",
    "#                 row.append(x[i][j].value)\n",
    "#         if i != 0:\n",
    "#             values.append(row)\n",
    "\n",
    "#     example_columns = []\n",
    "#     for i, attr in enumerate(attrs):\n",
    "#         example_col = ExampleColumn(attr, [values[j][i] for j in range(row_num - 1)])\n",
    "#         example_columns.append(example_col)\n",
    "\n",
    "# #     example_columns = example_columns\n",
    "#     print(\"Confirmed\")\n",
    "#     # self.get_relevant_columns(example_columns)\n",
    "\n",
    "\n",
    "# button1.on_click(add_column)\n",
    "# button2.on_click(remove_column)\n",
    "# button3.on_click(add_row)\n",
    "# button4.on_click(remove_row)\n",
    "# button5.on_click(confirm)\n",
    "\n",
    "# display_all()\n",
    "\n",
    "# # display(widgets.HBox([button1, button2, button3, button4]))\n",
    "# # draw()\n",
    "# # display(out)\n",
    "# # display(button5)"
   ]
  },
  {
   "cell_type": "code",
   "execution_count": 7,
   "metadata": {
    "pycharm": {
     "name": "#%%\n"
    }
   },
   "outputs": [
    {
     "data": {
      "application/vnd.jupyter.widget-view+json": {
       "model_id": "49a75e83cc80488dba5f0817d6d9b08e",
       "version_major": 2,
       "version_minor": 0
      },
      "text/plain": [
       "HBox(children=(Button(description='Add Column', style=ButtonStyle()), Button(description='Remove Column', styl…"
      ]
     },
     "metadata": {},
     "output_type": "display_data"
    },
    {
     "data": {
      "application/vnd.jupyter.widget-view+json": {
       "model_id": "6165b10b6621445582ce9a1ec996dfc0",
       "version_major": 2,
       "version_minor": 0
      },
      "text/plain": [
       "VBox(children=(HBox(children=(HTML(value='<style>.attr input { background-color:#D0F0D0 !important; }</style>'…"
      ]
     },
     "metadata": {},
     "output_type": "display_data"
    },
    {
     "data": {
      "application/vnd.jupyter.widget-view+json": {
       "model_id": "ea49be7b05534a4f89b73686cdf190de",
       "version_major": 2,
       "version_minor": 0
      },
      "text/plain": [
       "Button(description='Confirm', style=ButtonStyle())"
      ]
     },
     "metadata": {},
     "output_type": "display_data"
    },
    {
     "name": "stdout",
     "output_type": "stream",
     "text": [
      "Confirmed\n"
     ]
    }
   ],
   "source": [
    "%gui asyncio\n",
    "\n",
    "import ipywidgets as widgets\n",
    "from IPython.display import display, clear_output, HTML\n",
    "\n",
    "import asyncio\n",
    "\n",
    "candidate_list = []\n",
    "example_columns = []\n",
    "\n",
    "row_num = 3\n",
    "col_num = 3\n",
    "\n",
    "default_values = [[\"school\", \"type\", \"rating\"], [\"Ogden International High School\", \"IB\", \"Level 1\"],\n",
    "                  [\"Hyde Park High School\", \"General Education\", \"Level 2\"]]\n",
    "\n",
    "attr_style = \"<style>.attr input { background-color:#D0F0D0 !important; }</style>\"\n",
    "x = [[widgets.Text(value=default_values[i][j]) for j in range(col_num)] for i in range(row_num)]\n",
    "\n",
    "out = widgets.Output()\n",
    "\n",
    "button1 = widgets.Button(description=\"Add Column\")\n",
    "button2 = widgets.Button(description=\"Remove Column\")\n",
    "button3 = widgets.Button(description=\"Add Row\")\n",
    "button4 = widgets.Button(description=\"Remove Row\")\n",
    "button5 = widgets.Button(description=\"Confirm\")\n",
    "buttons = [button1, button2, button3, button4, button5]\n",
    "\n",
    "\n",
    "def wait_for_change(buttons):\n",
    "    future = asyncio.Future()\n",
    "\n",
    "    def getvalue(change):\n",
    "        future.set_result(change.description)\n",
    "        for button in buttons:\n",
    "            button.on_click(getvalue, remove=True)\n",
    "        # we need to free up the binding to getvalue to avoid an InvalidState error\n",
    "        # buttons don't support unobserve\n",
    "        # so use `remove=True`\n",
    "\n",
    "    for button in buttons:\n",
    "        button.on_click(getvalue)\n",
    "    return future\n",
    "\n",
    "\n",
    "@out.capture()\n",
    "def draw(x, row_num, col_num):\n",
    "    attr_line = [widgets.HTML(attr_style)]\n",
    "    attr_line.extend([item.add_class('attr') for item in x[0]])\n",
    "    attrs = widgets.HBox(attr_line)\n",
    "    display(widgets.VBox([attrs] + [widgets.HBox(x[i]) for i in range(1, row_num)]))\n",
    "    # display(widgets.VBox([widgets.HBox(x[i]) for i in range(1, row_num)]))\n",
    "\n",
    "\n",
    "@out.capture()\n",
    "def display_all(x, row_num, col_num):\n",
    "    display(widgets.HBox([button1, button2, button3, button4]))\n",
    "    draw(x, row_num, col_num)\n",
    "    # display(out)\n",
    "    display(button5)\n",
    "\n",
    "\n",
    "@out.capture()\n",
    "def add_column(x, row_num, col_num):\n",
    "    # global col_num\n",
    "    # global x\n",
    "    col_num += 1\n",
    "    x[0].append(widgets.Text(value=\"col\"+str(len(x[0]))))\n",
    "    for i in range(1, row_num):\n",
    "        x[i].append(widgets.Text())\n",
    "    return x, row_num, col_num\n",
    "    # out.clear_output()\n",
    "    # with out:\n",
    "    #     display_all()\n",
    "\n",
    "\n",
    "@out.capture()\n",
    "def remove_column(x, row_num, col_num):\n",
    "    # global col_num\n",
    "    # global x\n",
    "    for i in range(row_num):\n",
    "        w = x[i].pop()\n",
    "        w.close()\n",
    "    col_num -= 1\n",
    "    return x, row_num, col_num\n",
    "    # out.clear_output()\n",
    "    # with out:\n",
    "    #     display_all()\n",
    "\n",
    "\n",
    "@out.capture()\n",
    "def add_row(x, row_num, col_num):\n",
    "    # global row_num\n",
    "    # global x\n",
    "    row_num += 1\n",
    "    x.append([widgets.Text() for _ in range(col_num)])\n",
    "    return x, row_num, col_num\n",
    "    # out.clear_output()\n",
    "    # with out:\n",
    "    #     display_all()\n",
    "\n",
    "\n",
    "@out.capture()\n",
    "def remove_row(x, row_num, col_num):\n",
    "    # global row_num\n",
    "    # global x\n",
    "    # global out\n",
    "    ws = x.pop()\n",
    "    for w in ws:\n",
    "        w.close()\n",
    "    row_num -= 1\n",
    "    return x, row_num, col_num\n",
    "    # out.clear_output()\n",
    "    # with out:\n",
    "    #     display_all()\n",
    "\n",
    "@out.capture()\n",
    "def confirm(x, row_num, col_num):\n",
    "    global values\n",
    "    global attrs\n",
    "    values = []\n",
    "    attrs = []\n",
    "    candidate_list = [[] for _ in range(col_num)]\n",
    "    for i in range(row_num):\n",
    "        row = []\n",
    "        for j in range(col_num):\n",
    "            if i == 0:\n",
    "                attrs.append(x[i][j].value)\n",
    "            else:\n",
    "                row.append(x[i][j].value)\n",
    "        if i != 0:\n",
    "            values.append(row)\n",
    "\n",
    "    example_columns = []\n",
    "    for i, attr in enumerate(attrs):\n",
    "        example_col = ExampleColumn(attr, [values[j][i] for j in range(row_num - 1)])\n",
    "        example_columns.append(example_col)\n",
    "\n",
    "    # example_columns = example_columns\n",
    "    print(\"Confirmed\")\n",
    "    # self.get_relevant_columns(example_columns)\n",
    "    return example_columns\n",
    "\n",
    "\n",
    "async def f():\n",
    "    row_num = 3\n",
    "    col_num = 3\n",
    "\n",
    "    x = [[widgets.Text(value=default_values[i][j]) for j in range(col_num)] for i in range(row_num)]\n",
    "\n",
    "\n",
    "    while True:\n",
    "        out.clear_output()\n",
    "        display_all(x, row_num, col_num)\n",
    "\n",
    "        option_picked = await wait_for_change(buttons)\n",
    "\n",
    "        if option_picked == \"Add Column\":\n",
    "            x, row_num, col_num = add_column(x, row_num, col_num)\n",
    "        elif option_picked == \"Remove Column\":\n",
    "            x, row_num, col_num = remove_column(x, row_num, col_num)\n",
    "        elif option_picked == \"Add Row\":\n",
    "            x, row_num, col_num = add_row(x, row_num, col_num)\n",
    "        elif option_picked == \"Remove Row\":\n",
    "            x, row_num, col_num = remove_row(x, row_num, col_num)\n",
    "        elif option_picked == \"Confirm\":\n",
    "            example_columns = confirm(x, row_num, col_num)\n",
    "            break\n",
    "\n",
    "    return example_columns\n",
    "\n",
    "\n",
    "task = asyncio.ensure_future(f())\n",
    "# example_columns = f()\n",
    "# display(out)\n",
    "# await f()\n",
    "\n",
    "# await task\n",
    "# example_columns = task.result()"
   ]
  },
  {
   "cell_type": "code",
   "execution_count": 8,
   "metadata": {
    "pycharm": {
     "name": "#%%\n"
    }
   },
   "outputs": [],
   "source": [
    "await task\n",
    "example_columns = task.result()"
   ]
  },
  {
   "cell_type": "code",
   "execution_count": 9,
   "metadata": {
    "pycharm": {
     "name": "#%%\n"
    }
   },
   "outputs": [
    {
     "name": "stdout",
     "output_type": "stream",
     "text": [
      "school\n",
      "['Ogden International High School', 'Hyde Park High School']\n",
      "type\n",
      "['IB', 'General Education']\n",
      "rating\n",
      "['Level 1', 'Level 2']\n"
     ]
    }
   ],
   "source": [
    "for example_column in example_columns:\n",
    "    print(example_column.attr)\n",
    "    print(example_column.examples)"
   ]
  },
  {
   "cell_type": "code",
   "execution_count": 10,
   "metadata": {
    "pycharm": {
     "name": "#%%\n"
    }
   },
   "outputs": [
    {
     "data": {
      "application/vnd.jupyter.widget-view+json": {
       "model_id": "bef06c4c2d0c4e70954b5ae82ea1818a",
       "version_major": 2,
       "version_minor": 0
      },
      "text/plain": [
       "Button(description='find candidate columns', layout=Layout(height='40px', width='auto'), style=ButtonStyle())"
      ]
     },
     "metadata": {},
     "output_type": "display_data"
    },
    {
     "name": "stdout",
     "output_type": "stream",
     "text": [
      "finding candidate columns...\n",
      "complete\n"
     ]
    }
   ],
   "source": [
    "# qbe = QueryByExample(aurum_api)\n",
    "# candidate_list = qbe.find_candidate_columns(example_columns, cluster_prune=True)\n",
    "\n",
    "from IPython.display import display\n",
    "\n",
    "layout = widgets.Layout(width='auto', height='40px') #set width and height\n",
    "\n",
    "button = widgets.Button(description=\"find candidate columns\", \n",
    "                        disabled=False,\n",
    "                        display='flex',\n",
    "                        flex_flow='column',\n",
    "                        align_items='stretch', \n",
    "                        layout = layout)\n",
    "\n",
    "output = widgets.Output()\n",
    "\n",
    "result = None\n",
    "\n",
    "# display(button, output)\n",
    "\n",
    "def find_candidate_columns(b):\n",
    "    with output:\n",
    "        print(\"finding candidate columns...\")\n",
    "\n",
    "    fake_candidate_cols = [[\"Chicago Public Schools - School Admissions Information SY2122.csv.long_name\", \"Chicago Public Schools - School Admissions Information SY2223.csv.long_name\"], [\"Chicago Public Schools - School Admissions Information SY2122.csv.program_group\",\n",
    "\"Chicago Public Schools - School Admissions Information SY2223.csv.program_group\"], [\"Chicago Public Schools - School Profile Information SY2223.csv.overall_rating\", \"Chicago Public Schools - School Profile Information SY2122.csv.overall_rating\"]]\n",
    "#     find_candidate_columns.data = fake_candidate_cols\n",
    "\n",
    "    global result\n",
    "    result = fake_candidate_cols\n",
    "\n",
    "    with output:\n",
    "        print(\"complete\")\n",
    "    # return find_candidate_columns.data\n",
    "\n",
    "button.on_click(find_candidate_columns)\n",
    "display(button)"
   ]
  },
  {
   "cell_type": "code",
   "execution_count": 11,
   "metadata": {
    "pycharm": {
     "name": "#%%\n"
    }
   },
   "outputs": [
    {
     "name": "stdout",
     "output_type": "stream",
     "text": [
      "\n",
      "column school: found 2 candidate columns\n",
      "Chicago Public Schools - School Admissions Information SY2122.csv.long_name\n",
      "Chicago Public Schools - School Admissions Information SY2223.csv.long_name\n",
      "\n",
      "column type: found 2 candidate columns\n",
      "Chicago Public Schools - School Admissions Information SY2122.csv.program_group\n",
      "Chicago Public Schools - School Admissions Information SY2223.csv.program_group\n",
      "\n",
      "column rating: found 2 candidate columns\n",
      "Chicago Public Schools - School Profile Information SY2223.csv.overall_rating\n",
      "Chicago Public Schools - School Profile Information SY2122.csv.overall_rating\n"
     ]
    }
   ],
   "source": [
    "candidate_list = result\n",
    "for i, candidate in enumerate(candidate_list):\n",
    "    print('\\ncolumn {}: found {} candidate columns'.format(example_columns[i].attr, len(candidate)))\n",
    "    for c in candidate:\n",
    "        print(c)"
   ]
  },
  {
   "cell_type": "code",
   "execution_count": null,
   "outputs": [],
   "source": [
    "import warnings\n",
    "warnings.simplefilter(action='ignore', category=FutureWarning)\n",
    "\n",
    "import pandas as pd\n",
    "from IPython.display import display, clear_output, HTML\n",
    "from ipywidgets import interact, Dropdown\n",
    "\n",
    "data_path = './test_data/'\n",
    "\n",
    "output = widgets.Output()\n",
    "\n",
    "default_col = example_columns[0].attr\n",
    "\n",
    "candidate_columns_dict = {}\n",
    "for i, candidate in enumerate(candidate_list):\n",
    "    candidate_columns_dict[example_columns[i].attr] = candidate\n",
    "\n",
    "def highlight_cols(s, color='lightgreen'):\n",
    "    return 'background-color: %s' % color\n",
    "\n",
    "def apply_highlight(df, cols_to_highlight, color='lightyellow'):\n",
    "    html = df.style.applymap(highlight_cols,\n",
    "                         subset=pd.IndexSlice[:, cols_to_highlight],\n",
    "                        color=color).render()\n",
    "    return html\n",
    "\n",
    "def display_candidate(candidate, dropdown_candidate, num=10):\n",
    "    \n",
    "    output.clear_output()\n",
    "    \n",
    "#     global dropdown_candidate\n",
    "    \n",
    "    with output:\n",
    "#         print(dropdown_candidate.options)\n",
    "        print(\"View Candidate Columns\")\n",
    "        display(dropdown_col, dropdown_candidate, bounded_num)\n",
    "            \n",
    "    split = candidate.rsplit(\".\", 1)\n",
    "    table_name, col_name = split[0], split[1]\n",
    "    with output:\n",
    "        print(\"candidate table column:\", table_name, col_name)\n",
    "\n",
    "    df = pd.read_csv(os.path.join(data_path, table_name))\n",
    "    df = df.head(num)\n",
    "    cols_to_highlight = [col_name]\n",
    "\n",
    "    html = apply_highlight(df, cols_to_highlight)\n",
    "    \n",
    "    with output:\n",
    "        display(HTML(html))\n",
    "\n",
    "def dropdown_col_eventhandler(change):\n",
    "    col = change.new\n",
    "#     global dropdown_candidate\n",
    "#     dropdown_candidate.options = list(candidate_columns_dict[col])\n",
    "    new_dropdown_candidate = widgets.Dropdown(description=\"Candidate Table Column\", options=list(candidate_columns_dict[col]))\n",
    "    dropdown_candidate = new_dropdown_candidate                         \n",
    "    dropdown_candidate.observe(dropdown_candidate_eventhandler, names='value')\n",
    "    \n",
    "    num = int(bounded_num.value)\n",
    "    \n",
    "    display_candidate(dropdown_candidate.options[0], dropdown_candidate, num=num)\n",
    "\n",
    "def dropdown_candidate_eventhandler(change):\n",
    "    candidate = change.new\n",
    "    \n",
    "#     col = dropdown_col.value\n",
    "#     global dropdown_candidate\n",
    "#     new_dropdown_candidate = widgets.Dropdown(description=\"Candidate Table Column\", options=list(candidate_columns_dict[col]))\n",
    "#     dropdown_candidate = new_dropdown_candidate   \n",
    "\n",
    "    num = int(bounded_num.value)\n",
    "\n",
    "    dropdown_candidate.observe(dropdown_candidate_eventhandler, names='value')\n",
    "    display_candidate(candidate, dropdown_candidate, num=num)\n",
    "    \n",
    "def bounded_num_eventhandler(change):\n",
    "    num = int(change.new)\n",
    "    \n",
    "    col = dropdown_col.value\n",
    "    new_dropdown_candidate = widgets.Dropdown(description=\"Candidate Table Column\", options=list(candidate_columns_dict[col]))\n",
    "    dropdown_candidate = new_dropdown_candidate            \n",
    "    dropdown_candidate.observe(dropdown_candidate_eventhandler, names='value')\n",
    "    \n",
    "    candidate=dropdown_candidate.value\n",
    "    \n",
    "    display_candidate(candidate, dropdown_candidate, num=num)\n",
    "\n",
    "    \n",
    "dropdown_col = widgets.Dropdown(options=list(candidate_columns_dict.keys()), description=\"Column Name\")\n",
    "dropdown_candidate = widgets.Dropdown(description=\"Candidate Table Column\", options=candidate_columns_dict[default_col])\n",
    "bounded_num = widgets.BoundedFloatText(min=0, max=1000, value=10, step=1, description=\"Size\")\n",
    "\n",
    "dropdown_col.observe(dropdown_col_eventhandler, names='value')\n",
    "dropdown_candidate.observe(dropdown_candidate_eventhandler, names='value')\n",
    "bounded_num.observe(bounded_num_eventhandler, names='value')\n",
    "\n",
    "print(\"View Candidate Columns\")\n",
    "\n",
    "display(dropdown_col, dropdown_candidate, bounded_num)\n",
    "\n",
    "display(output)\n"
   ],
   "metadata": {
    "collapsed": false,
    "pycharm": {
     "name": "#%%\n"
    }
   }
  },
  {
   "cell_type": "code",
   "execution_count": null,
   "outputs": [],
   "source": [
    "# join_graphs = qbe.find_join_graphs_between_candidate_columns(candidate_list, order_chain_only=True)\n",
    "# print(\"found {} join graphs\".format(len(join_graphs)))\n",
    "\n",
    "class JoinPath:\n",
    "    def __init__(self, path: list, tbl_proj_attrs):\n",
    "        # join path is a list of key pairs: [join_key1, join_key2], [join_key3, join_key4]\n",
    "        self.path = path\n",
    "        self.tbl_proj_attrs = tbl_proj_attrs\n",
    "\n",
    "button = widgets.Button(description=\"find join graphs\", layout=layout)\n",
    "output = widgets.Output()\n",
    "\n",
    "result = None\n",
    "\n",
    "def find_join_graphs_between_candidate_columns(b):\n",
    "    with output:\n",
    "        print(\"finding join graphs...\")\n",
    "\n",
    "    fake_join_graphs = []\n",
    "\n",
    "    # join_graph1 = {}\n",
    "    # join_graph1[(0, 1)] = JoinPath(path=[\"Chicago Public Schools - School Admissions Information SY2223.csv.long_name\", \"Chicago Public Schools - School Admissions Information SY2223.csv.long_name\"], tbl_proj_attrs=[[\"Chicago Public Schools - School Admissions Information SY2223.csv.long_name\"], [\"Chicago Public Schools - School Admissions Information SY2223.csv.program_group\"]])\n",
    "    # join_graph1[(1, 2)] = JoinPath(path=[\"Chicago Public Schools - School Admissions Information SY2223.csv.short_name\", \"Chicago Public Schools - School Profile Information SY2223.csv.long_name\"], tbl_proj_attrs=[[\"Chicago Public Schools - School Admissions Information SY2223.csv.program_group\"], [\"Chicago Public Schools - School Profile Information SY2223.csv.overall_rating\"]])\n",
    "    #\n",
    "    # fake_join_graphs.append(join_graph1)\n",
    "    #\n",
    "    # join_graph2 = {}\n",
    "    # join_graph2[(0, 1)] = JoinPath(path=[\"Chicago Public Schools - School Admissions Information SY2223.csv.long_name\", \"Chicago Public Schools - School Admissions Information SY2223.csv.long_name\"], tbl_proj_attrs=[[\"Chicago Public Schools - School Admissions Information SY2223.csv.long_name\"], [\"Chicago Public Schools - School Admissions Information SY2223.csv.program_group\"]])\n",
    "    # join_graph2[(1, 2)] = JoinPath(path=[\"Chicago Public Schools - School Admissions Information SY2223.csv.short_name\", \"Chicago Public Schools - School Profile Information SY2223.csv.short_name\"], tbl_proj_attrs=[[\"Chicago Public Schools - School Admissions Information SY2223.csv.program_group\"], [\"Chicago Public Schools - School Profile Information SY2223.csv.overall_rating\"]])\n",
    "    #\n",
    "    # fake_join_graphs.append(join_graph2)\n",
    "\n",
    "    join_graph1 = {}\n",
    "    join_graph1[\"tables\"] = (\"Chicago Public Schools - School Admissions Information SY2223.csv\", \"Chicago Public Schools - School Profile Information SY2122.csv\")\n",
    "    join_graph1[\"join_keys\"] = (\"short_name\", \"long_name\")\n",
    "    join_graph1[\"attrs_to_project\"] = ([\"long_name\", \"program_group\"], [\"overall_rating\"])\n",
    "    fake_join_graphs.append(join_graph1)\n",
    "\n",
    "    join_graph2 = {}\n",
    "    join_graph2[\"tables\"] = (\"Chicago Public Schools - School Admissions Information SY2223.csv\", \"Chicago Public Schools - School Profile Information SY2223.csv\")\n",
    "    join_graph2[\"join_keys\"] = (\"short_name\", \"short_name\")\n",
    "    join_graph2[\"attrs_to_project\"] = ([\"long_name\", \"program_group\"], [\"overall_rating\"])\n",
    "    fake_join_graphs.append(join_graph2)\n",
    "\n",
    "    global result\n",
    "    result = fake_join_graphs\n",
    "\n",
    "    # find_join_graphs_between_candidate_columns.data = fake_join_graphs\n",
    "\n",
    "    with output:\n",
    "        print(f\"found {len(fake_join_graphs)} join graphs\")\n",
    "\n",
    "    # return find_join_graphs_between_candidate_columns.data\n",
    "\n",
    "button.on_click(find_join_graphs_between_candidate_columns)\n",
    "display(button)"
   ],
   "metadata": {
    "collapsed": false,
    "pycharm": {
     "name": "#%%\n"
    }
   }
  },
  {
   "cell_type": "code",
   "execution_count": null,
   "outputs": [],
   "source": [
    "# join_graphs = find_join_graphs_between_candidate_columns.data\n",
    "join_graphs = result\n",
    "\n",
    "for i, join_graph in enumerate(join_graphs):\n",
    "    print(\"----join graph {}----\".format(i))\n",
    "    # join_graph.display()\n",
    "    print(join_graph)"
   ],
   "metadata": {
    "collapsed": false,
    "pycharm": {
     "name": "#%%\n"
    }
   }
  },
  {
   "cell_type": "code",
   "execution_count": null,
   "outputs": [],
   "source": [
    "import warnings\n",
    "warnings.simplefilter(action='ignore', category=FutureWarning)\n",
    "\n",
    "import pandas as pd\n",
    "from IPython.display import display, clear_output, HTML\n",
    "from ipywidgets import interact, Dropdown\n",
    "\n",
    "data_path = './test_data/'\n",
    "\n",
    "output = widgets.Output()\n",
    "\n",
    "from IPython.display import display_html\n",
    "from itertools import chain,cycle\n",
    "\n",
    "def display_side_by_side(dfs,titles=cycle(['']), cols_to_highlight=None):\n",
    "    html_str=''\n",
    "    i = 0\n",
    "    for df, title in zip(dfs, chain(titles,cycle(['</br>'])) ):\n",
    "        html_str += '<th style=\"text-align:center\"><td style=\"vertical-align:top\">'\n",
    "        html_str += f'<h2 style=\"text-align:center;\">{title}</h2>'\n",
    "\n",
    "        df_html = df.to_html()\n",
    "        if cols_to_highlight is not None:\n",
    "#             print([cols_to_highlight[i]])\n",
    "            df_html = apply_highlight(df, [cols_to_highlight[i]])\n",
    "            i+=1\n",
    "\n",
    "        html_str += df_html.replace('table','table style=\"display:inline\"')\n",
    "        html_str += '</td></th>'\n",
    "    display_html(html_str,raw=True)\n",
    "\n",
    "def display_join_graph(join_graph_idx, num=10):\n",
    "\n",
    "    output.clear_output()\n",
    "\n",
    "#     global dropdown_candidate\n",
    "\n",
    "    with output:\n",
    "#         print(dropdown_candidate.options)\n",
    "        print(\"View Join Graphs\")\n",
    "        display(dropdown_idx, bounded_num)\n",
    "\n",
    "    dfs = []\n",
    "    # titles = join_graphs[join_graph_idx]\n",
    "    join_graph = join_graphs[join_graph_idx]\n",
    "\n",
    "    table_names = list(join_graph[\"tables\"])\n",
    "    join_keys = list(join_graph[\"join_keys\"])\n",
    "\n",
    "    for i, table_name in enumerate(table_names):\n",
    "\n",
    "        join_key = join_keys[i]\n",
    "        attrs_to_project = join_graph[\"attrs_to_project\"][i]\n",
    "        \n",
    "#         print(join_graph[\"attrs_to_project\"])\n",
    "#         print(join_key, attrs_to_project)\n",
    "\n",
    "        cols = attrs_to_project.copy()\n",
    "        cols.append(join_key)\n",
    "        \n",
    "        \n",
    "        df = pd.read_csv(os.path.join(data_path, table_name))[cols]\n",
    "        \n",
    "        if isinstance(df, pd.Series):\n",
    "            df.to_frame()\n",
    "            \n",
    "        df = df.head(num)\n",
    "\n",
    "        dfs.append(df)\n",
    "\n",
    "    with output:\n",
    "        display_side_by_side(dfs, table_names, join_keys)\n",
    "\n",
    "def dropdown_idx_eventhandler(change):\n",
    "    idx = int(change.new)\n",
    "    num = int(bounded_num.value)\n",
    "    display_join_graph(idx, num)\n",
    "\n",
    "def bounded_num_eventhandler(change):\n",
    "    num = int(change.new)\n",
    "    idx = dropdown_idx.value\n",
    "    display_join_graph(idx, num)\n",
    "\n",
    "\n",
    "dropdown_idx = widgets.Dropdown(options=[i for i in range(len(join_graphs))], description=\"Idx\")\n",
    "bounded_num = widgets.BoundedFloatText(min=0, max=1000, value=10, step=1, description=\"Size\")\n",
    "\n",
    "dropdown_idx.observe(dropdown_idx_eventhandler, names='value')\n",
    "bounded_num.observe(bounded_num_eventhandler, names='value')\n",
    "\n",
    "print(\"View Join Graphs\")\n",
    "display(dropdown_idx, bounded_num)\n",
    "display(output)\n"
   ],
   "metadata": {
    "collapsed": false,
    "pycharm": {
     "name": "#%%\n"
    }
   }
  },
  {
   "cell_type": "code",
   "execution_count": null,
   "outputs": [],
   "source": [
    "button = widgets.Button(description=\"materialize join graphs\", layout=layout)\n",
    "output = widgets.Output()\n",
    "\n",
    "# display(button, output)\n",
    "\n",
    "result = None\n",
    "\n",
    "def materialize_join_graphs(b):\n",
    "    with output:\n",
    "        print(\"materializing join graphs...\")\n",
    "\n",
    "    fake_dfs = []\n",
    "    fake_dfs.append(pd.read_csv(\"./test_data/Chicago Public Schools - School Profile Information SY2223.csv\"))\n",
    "    fake_dfs.append(pd.read_csv(\"./test_data/Chicago Public Schools - School Admissions Information SY2223.csv\"))\n",
    "    fake_dfs.append(pd.read_csv(\"./test_data/Chicago Public Schools - School Profile Information SY2122.csv\"))\n",
    "    fake_dfs.append(pd.read_csv(\"./test_data/Chicago Public Schools - School Admissions Information SY2122.csv\"))\n",
    "\n",
    "    global result\n",
    "    result = fake_dfs\n",
    "#     materialize_join_graphs.data = fake_dfs\n",
    "\n",
    "    with output:\n",
    "        print(f\"materialized {len(fake_dfs)} views\")\n",
    "\n",
    "#     return materialize_join_graphs.data\n",
    "\n",
    "button.on_click(materialize_join_graphs)\n",
    "display(button)"
   ],
   "metadata": {
    "collapsed": false,
    "pycharm": {
     "name": "#%%\n"
    }
   }
  },
  {
   "cell_type": "code",
   "execution_count": null,
   "outputs": [],
   "source": [
    "dfs = result"
   ],
   "metadata": {
    "collapsed": false,
    "pycharm": {
     "name": "#%%\n"
    }
   }
  },
  {
   "cell_type": "code",
   "execution_count": null,
   "outputs": [],
   "source": [
    "import warnings\n",
    "warnings.simplefilter(action='ignore', category=FutureWarning)\n",
    "\n",
    "import pandas as pd\n",
    "from IPython.display import display, clear_output, HTML\n",
    "from ipywidgets import interact, Dropdown\n",
    "\n",
    "data_path = './test_data/'\n",
    "\n",
    "output = widgets.Output()\n",
    "\n",
    "\n",
    "def display_view(view_idx, num=10):\n",
    "\n",
    "    output.clear_output()\n",
    "\n",
    "#     global dropdown_candidate\n",
    "\n",
    "    with output:\n",
    "#         print(dropdown_candidate.options)\n",
    "        print(\"Show Views\")\n",
    "        display(dropdown_view, bounded_num)\n",
    "\n",
    "    df = dfs[view_idx].head(num)\n",
    "\n",
    "    with output:\n",
    "        display(df)\n",
    "\n",
    "def dropdown_view_eventhandler(change):\n",
    "    idx = int(change.new)\n",
    "    num = int(bounded_num.value)\n",
    "    display_view(idx, num)\n",
    "\n",
    "def bounded_num_eventhandler(change):\n",
    "    num = int(change.new)\n",
    "    idx = dropdown_idx.value\n",
    "    display_view(idx, num)\n",
    "\n",
    "dropdown_view = widgets.Dropdown(options=[i for i in range(len(dfs))], description=\"Idx\")\n",
    "bounded_num = widgets.BoundedFloatText(min=0, max=1000, value=10, step=1, description=\"Size\")\n",
    "\n",
    "dropdown_view.observe(dropdown_view_eventhandler, names='value')\n",
    "bounded_num.observe(bounded_num_eventhandler, names='value')\n",
    "\n",
    "print(\"Show Views\")\n",
    "display(dropdown_view, bounded_num)\n",
    "display(output)\n"
   ],
   "metadata": {
    "collapsed": false,
    "pycharm": {
     "name": "#%%\n"
    }
   }
  },
  {
   "cell_type": "code",
   "execution_count": null,
   "outputs": [],
   "source": [
    "from view_distillation import view_distillation\n",
    "\n",
    "vd = view_distillation.ViewDistillation(dfs=dfs)\n",
    "\n",
    "button = widgets.Button(description=\"distill views\")\n",
    "output = widgets.Output()\n",
    "\n",
    "# display(button, output)\n",
    "\n",
    "def distill_views(b):\n",
    "    with output:\n",
    "        print(\"distilling views...\")\n",
    "\n",
    "    with output:\n",
    "        vd.prune_graph()\n",
    "\n",
    "\n",
    "button.on_click(distill_views)\n",
    "display(button)"
   ],
   "metadata": {
    "collapsed": false,
    "pycharm": {
     "name": "#%%\n"
    }
   }
  },
  {
   "cell_type": "code",
   "execution_count": 55,
   "metadata": {
    "pycharm": {
     "name": "#%%\n"
    }
   },
   "outputs": [
    {
     "name": "stdout",
     "output_type": "stream",
     "text": [
      "original num views: 2\n",
      "num schema groups: 2\n"
     ]
    },
    {
     "data": {
      "application/vnd.jupyter.widget-view+json": {
       "model_id": "8212db388da54c8cb1c0c116090b2765",
       "version_major": 2,
       "version_minor": 0
      },
      "text/plain": [
       "Button(description='distill views', style=ButtonStyle())"
      ]
     },
     "metadata": {},
     "output_type": "display_data"
    },
    {
     "name": "stdout",
     "output_type": "stream",
     "text": [
      "distilling views...\n"
     ]
    },
    {
     "name": "stderr",
     "output_type": "stream",
     "text": [
      "0it [00:00, ?it/s]\n",
      "0it [00:00, ?it/s]"
     ]
    },
    {
     "name": "stdout",
     "output_type": "stream",
     "text": [
      "num views after pruning compatible: 2\n",
      "num views after pruning contained: 2\n",
      "num views after union complementary: 2\n",
      "num of contradictory view paris: 0\n"
     ]
    },
    {
     "name": "stderr",
     "output_type": "stream",
     "text": [
      "\n"
     ]
    }
   ],
   "source": [
    "from view_distillation import view_distillation\n",
    "\n",
    "vd = view_distillation.ViewDistillation(dfs=dfs)\n",
    "\n",
    "button = widgets.Button(description=\"distill views\")\n",
    "output = widgets.Output()\n",
    "\n",
    "# display(button, output)\n",
    "\n",
    "def distill_views(b):\n",
    "    with output:\n",
    "        print(\"distilling views...\")\n",
    "\n",
    "    with output:\n",
    "        vd.prune_graph()\n",
    "\n",
    "\n",
    "button.on_click(distill_views)\n",
    "display(button)"
   ]
  },
  {
   "cell_type": "code",
   "execution_count": 56,
   "metadata": {},
   "outputs": [
    {
     "data": {
      "application/vnd.jupyter.widget-view+json": {
       "model_id": "5c1f58151c7047108f154ca8cbba6f4b",
       "version_major": 2,
       "version_minor": 0
      },
      "text/plain": [
       "Button(description='view presentation', style=ButtonStyle())"
      ]
     },
     "metadata": {},
     "output_type": "display_data"
    },
    {
     "name": "stdout",
     "output_type": "stream",
     "text": [
      "view presentation\n"
     ]
    }
   ],
   "source": [
    "button = widgets.Button(description=\"view presentation\")\n",
    "output = widgets.Output()\n",
    "\n",
    "# display(button, output)\n",
    "\n",
    "def view_presentation(b):\n",
    "    with output:\n",
    "        print(\"view presentation\")\n",
    "\n",
    "button.on_click(view_presentation)\n",
    "display(button)"
   ]
  },
  {
   "cell_type": "code",
   "execution_count": null,
   "metadata": {
    "pycharm": {
     "name": "#%%\n"
    }
   },
   "outputs": [],
   "source": [
    "# import pandas as pd\n",
    "# from IPython.display import display, clear_output, HTML\n",
    "\n",
    "# def highlight_cols(s, color='lightgreen'):\n",
    "#     return 'background-color: %s' % color\n",
    "\n",
    "# def apply_highlight(df, cols_to_highlight, color='lightyellow'):\n",
    "#     html = df.style.applymap(highlight_cols,\n",
    "#                          subset=pd.IndexSlice[:, cols_to_highlight],\n",
    "#                         color=color).render()\n",
    "#     return html\n",
    "\n",
    "# data_path = './test_data/'\n",
    "\n",
    "# df = pd.read_csv(data_path + \"Chicago Public Schools - School Admissions Information SY2223.csv\")\n",
    "# df = df.head(10)\n",
    "# cols_to_highlight = [\"long_name\"]\n",
    "\n",
    "# html = apply_highlight(df, cols_to_highlight)\n",
    "\n",
    "# display(HTML(html))"
   ]
  },
  {
   "cell_type": "code",
   "execution_count": null,
   "metadata": {
    "pycharm": {
     "name": "#%%\n"
    }
   },
   "outputs": [],
   "source": []
  },
  {
   "cell_type": "code",
   "execution_count": null,
   "metadata": {
    "pycharm": {
     "name": "#%%\n"
    }
   },
   "outputs": [],
   "source": []
  },
  {
   "cell_type": "code",
   "execution_count": null,
   "metadata": {
    "pycharm": {
     "name": "#%%\n"
    }
   },
   "outputs": [],
   "source": [
    "# import pandas as pd\n",
    "# from IPython.display import display, clear_output, HTML\n",
    "\n",
    "# def highlight_cols(s, color='lightgreen'):\n",
    "#     return 'background-color: %s' % color\n",
    "\n",
    "# def apply_highlight(df, cols_to_highlight, color='lightyellow'):\n",
    "#     html = df.style.applymap(highlight_cols,\n",
    "#                          subset=pd.IndexSlice[:, cols_to_highlight],\n",
    "#                         color=color).render()\n",
    "#     return html\n",
    "\n",
    "# data_path = './test_data/'\n",
    "\n",
    "# df = pd.read_csv(data_path + \"Chicago Public Schools - School Admissions Information SY2223.csv\")\n",
    "# df = df.head(10)\n",
    "# cols_to_highlight = [\"long_name\"]\n",
    "\n",
    "# html = apply_highlight(df, cols_to_highlight)\n",
    "\n",
    "# display(HTML(html))"
   ]
  },
  {
   "cell_type": "code",
   "execution_count": null,
   "metadata": {
    "pycharm": {
     "name": "#%%\n"
    }
   },
   "outputs": [],
   "source": []
  },
  {
   "cell_type": "code",
   "execution_count": null,
   "metadata": {
    "pycharm": {
     "name": "#%%\n"
    }
   },
   "outputs": [],
   "source": [
    "# import pandas as pd\n",
    "# from IPython.display import display, clear_output, HTML\n",
    "\n",
    "# def highlight_cols(s, color='lightgreen'):\n",
    "#     return 'background-color: %s' % color\n",
    "\n",
    "# def apply_highlight(df, cols_to_highlight, color='lightyellow'):\n",
    "#     html = df.style.applymap(highlight_cols,\n",
    "#                          subset=pd.IndexSlice[:, cols_to_highlight],\n",
    "#                         color=color).render()\n",
    "#     return html\n",
    "\n",
    "# data_path = './test_data/'\n",
    "\n",
    "# df = pd.read_csv(data_path + \"Chicago Public Schools - School Admissions Information SY2223.csv\")\n",
    "# df = df.head(10)\n",
    "# cols_to_highlight = [\"long_name\"]\n",
    "\n",
    "# html = apply_highlight(df, cols_to_highlight)\n",
    "\n",
    "# display(HTML(html))"
   ]
  },
  {
   "cell_type": "code",
   "execution_count": null,
   "metadata": {
    "pycharm": {
     "name": "#%%\n"
    }
   },
   "outputs": [],
   "source": [
    "# import pandas as pd\n",
    "# from IPython.display import display, clear_output, HTML\n",
    "\n",
    "# def highlight_cols(s, color='lightgreen'):\n",
    "#     return 'background-color: %s' % color\n",
    "\n",
    "# def apply_highlight(df, cols_to_highlight, color='lightyellow'):\n",
    "#     html = df.style.applymap(highlight_cols,\n",
    "#                          subset=pd.IndexSlice[:, cols_to_highlight],\n",
    "#                         color=color).render()\n",
    "#     return html\n",
    "\n",
    "# data_path = './test_data/'\n",
    "\n",
    "# df = pd.read_csv(data_path + \"Chicago Public Schools - School Admissions Information SY2223.csv\")\n",
    "# df = df.head(10)\n",
    "# cols_to_highlight = [\"long_name\"]\n",
    "\n",
    "# html = apply_highlight(df, cols_to_highlight)\n",
    "\n",
    "# display(HTML(html))"
   ]
  },
  {
   "cell_type": "code",
   "execution_count": 27,
   "metadata": {},
   "outputs": [
    {
     "data": {
      "application/vnd.jupyter.widget-view+json": {
       "model_id": "a44433cb4aab4748a8c9598270f1cb60",
       "version_major": 2,
       "version_minor": 0
      },
      "text/plain": [
       "Output()"
      ]
     },
     "metadata": {},
     "output_type": "display_data"
    }
   ],
   "source": []
  },
  {
   "cell_type": "code",
   "execution_count": null,
   "metadata": {
    "pycharm": {
     "name": "#%%\n"
    }
   },
   "outputs": [],
   "source": [
    "# import pandas as pd\n",
    "# from IPython.display import display, clear_output, HTML\n",
    "\n",
    "# def highlight_cols(s, color='lightgreen'):\n",
    "#     return 'background-color: %s' % color\n",
    "\n",
    "# def apply_highlight(df, cols_to_highlight, color='lightyellow'):\n",
    "#     html = df.style.applymap(highlight_cols,\n",
    "#                          subset=pd.IndexSlice[:, cols_to_highlight],\n",
    "#                         color=color).render()\n",
    "#     return html\n",
    "\n",
    "# data_path = './test_data/'\n",
    "\n",
    "# df = pd.read_csv(data_path + \"Chicago Public Schools - School Admissions Information SY2223.csv\")\n",
    "# df = df.head(10)\n",
    "# cols_to_highlight = [\"long_name\"]\n",
    "\n",
    "# html = apply_highlight(df, cols_to_highlight)\n",
    "\n",
    "# display(HTML(html))"
   ]
  },
  {
   "cell_type": "code",
   "execution_count": null,
   "metadata": {
    "pycharm": {
     "name": "#%%\n"
    }
   },
   "outputs": [],
   "source": []
  }
 ],
 "metadata": {
  "kernelspec": {
   "display_name": "Python 3 (ipykernel)",
   "language": "python",
   "name": "python3"
  },
  "language_info": {
   "codemirror_mode": {
    "name": "ipython",
    "version": 3
   },
   "file_extension": ".py",
   "mimetype": "text/x-python",
   "name": "python",
   "nbconvert_exporter": "python",
   "pygments_lexer": "ipython3",
   "version": "3.9.6"
  }
 },
 "nbformat": 4,
 "nbformat_minor": 1
}