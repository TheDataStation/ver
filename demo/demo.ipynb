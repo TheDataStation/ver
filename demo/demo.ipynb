{
 "cells": [
  {
   "cell_type": "code",
   "execution_count": 1,
   "metadata": {
    "pycharm": {
     "name": "#%%\n"
    }
   },
   "outputs": [],
   "source": [
    "import os.path\n",
    "\n",
    "# from qbe_demo import Demo, ExampleColumn, Colors"
   ]
  },
  {
   "cell_type": "code",
   "execution_count": 2,
   "metadata": {
    "pycharm": {
     "name": "#%%\n"
    }
   },
   "outputs": [],
   "source": [
    "# from knowledgerepr import fieldnetwork\n",
    "# from modelstore.elasticstore import StoreHandler\n",
    "# from algebra import API\n",
    "# from qbe_module.column_selection import ColumnSelection\n",
    "# from qbe_module.query_by_example import ExampleColumn, QueryByExample\n",
    "# from qbe_module.materializer import Materializer\n",
    "# from ver_demo import Demo"
   ]
  },
  {
   "cell_type": "code",
   "execution_count": 3,
   "metadata": {
    "pycharm": {
     "name": "#%%\n"
    }
   },
   "outputs": [],
   "source": [
    "# data_path = '/home/cc/chicago_open_data/'\n",
    "# graph_path = '/home/cc/chicago_open_data_graph/'\n",
    "# store_client = StoreHandler()\n",
    "# network = fieldnetwork.deserialize_network(graph_path)\n",
    "# aurum_api = API(network=network, store_client=store_client)\n",
    "# # demo = Demo(aurum_api)\n",
    "# demo = Demo(None)"
   ]
  },
  {
   "cell_type": "markdown",
   "source": [
    "# View Specification"
   ],
   "metadata": {
    "collapsed": false,
    "pycharm": {
     "name": "#%% md\n"
    }
   }
  },
  {
   "cell_type": "code",
   "execution_count": null,
   "outputs": [],
   "source": [
    "# qbe_demo = Demo(None)"
   ],
   "metadata": {
    "collapsed": false,
    "pycharm": {
     "name": "#%%\n"
    }
   }
  },
  {
   "cell_type": "code",
   "execution_count": null,
   "outputs": [],
   "source": [
    "# qbe_demo.qbe_interface()"
   ],
   "metadata": {
    "collapsed": false,
    "pycharm": {
     "name": "#%%\n"
    }
   }
  },
  {
   "cell_type": "code",
   "execution_count": null,
   "outputs": [],
   "source": [
    "from typing import List\n",
    "\n",
    "class ExampleColumn:\n",
    "    def __init__(self, attr: str, examples: List[str]) -> None:\n",
    "        self.attr = attr\n",
    "        self.examples = examples"
   ],
   "metadata": {
    "collapsed": false,
    "pycharm": {
     "name": "#%%\n"
    }
   }
  },
  {
   "cell_type": "code",
   "execution_count": null,
   "outputs": [],
   "source": [
    "# import ipywidgets as widgets\n",
    "# from IPython.display import display, clear_output, HTML\n",
    "\n",
    "# candidate_list = []\n",
    "# example_columns = []\n",
    "\n",
    "# row_num = 3\n",
    "# col_num = 3\n",
    "\n",
    "# default_values = [[\"\", \"\", \"\"], [\"Ogden International High School\", \"IB\", \"Level 1\"],\n",
    "#                   [\"Hyde Park High School\", \"General Education\", \"Level 2\"]]\n",
    "\n",
    "# attr_style = \"<style>.attr input { background-color:#D0F0D0 !important; }</style>\"\n",
    "# x = [[widgets.Text(value=default_values[i][j]) for j in range(col_num)] for i in range(row_num)]\n",
    "\n",
    "# out = widgets.Output()\n",
    "\n",
    "# button1 = widgets.Button(description=\"Add Column\")\n",
    "# button2 = widgets.Button(description=\"Remove Column\")\n",
    "# button3 = widgets.Button(description=\"Add Row\")\n",
    "# button4 = widgets.Button(description=\"Remove Row\")\n",
    "# button5 = widgets.Button(description=\"Confirm\")\n",
    "\n",
    "# @out.capture()\n",
    "# def draw():\n",
    "#     attr_line = [widgets.HTML(attr_style)]\n",
    "#     attr_line.extend([item.add_class('attr') for item in x[0]])\n",
    "#     attrs = widgets.HBox(attr_line)\n",
    "#     display(widgets.VBox([attrs] + [widgets.HBox(x[i]) for i in range(1, row_num)]))\n",
    "#     # display(widgets.VBox([widgets.HBox(x[i]) for i in range(1, row_num)]))\n",
    "\n",
    "# @out.capture()\n",
    "# def display_all():\n",
    "#     display(widgets.HBox([button1, button2, button3, button4]))\n",
    "#     draw()\n",
    "#     # display(out)\n",
    "#     display(button5)\n",
    "\n",
    "# @out.capture()\n",
    "# def add_column(_):\n",
    "#     global col_num\n",
    "#     global x\n",
    "#     global out\n",
    "#     col_num += 1\n",
    "#     for i in range(row_num):\n",
    "#         x[i].append(widgets.Text())\n",
    "#     out.clear_output()\n",
    "#     with out:\n",
    "#         display_all()\n",
    "\n",
    "# @out.capture()\n",
    "# def remove_column(_):\n",
    "#     global col_num\n",
    "#     global x\n",
    "#     global out\n",
    "#     for i in range(row_num):\n",
    "#         w = x[i].pop()\n",
    "#         w.close()\n",
    "#     col_num -= 1\n",
    "#     out.clear_output()\n",
    "#     with out:\n",
    "#         display_all()\n",
    "\n",
    "# @out.capture()\n",
    "# def add_row(_):\n",
    "#     global row_num\n",
    "#     global x\n",
    "#     global out\n",
    "#     row_num += 1\n",
    "#     x.append([widgets.Text() for _ in range(col_num)])\n",
    "#     out.clear_output()\n",
    "#     with out:\n",
    "#         display_all()\n",
    "\n",
    "# @out.capture()\n",
    "# def remove_row(_):\n",
    "#     global row_num\n",
    "#     global x\n",
    "#     global out\n",
    "#     ws = x.pop()\n",
    "#     for w in ws:\n",
    "#         w.close()\n",
    "#     row_num -= 1\n",
    "#     out.clear_output()\n",
    "#     with out:\n",
    "#         display_all()\n",
    "\n",
    "# def confirm(_):\n",
    "#     global values\n",
    "#     global attrs\n",
    "#     global example_columns\n",
    "#     values = []\n",
    "#     attrs = []\n",
    "#     candidate_list = [[] for _ in range(col_num)]\n",
    "#     for i in range(row_num):\n",
    "#         row = []\n",
    "#         for j in range(col_num):\n",
    "#             if i == 0:\n",
    "#                 attrs.append(x[i][j].value)\n",
    "#             else:\n",
    "#                 row.append(x[i][j].value)\n",
    "#         if i != 0:\n",
    "#             values.append(row)\n",
    "\n",
    "#     example_columns = []\n",
    "#     for i, attr in enumerate(attrs):\n",
    "#         example_col = ExampleColumn(attr, [values[j][i] for j in range(row_num - 1)])\n",
    "#         example_columns.append(example_col)\n",
    "\n",
    "# #     example_columns = example_columns\n",
    "#     print(\"Confirmed\")\n",
    "#     # self.get_relevant_columns(example_columns)\n",
    "\n",
    "\n",
    "# button1.on_click(add_column)\n",
    "# button2.on_click(remove_column)\n",
    "# button3.on_click(add_row)\n",
    "# button4.on_click(remove_row)\n",
    "# button5.on_click(confirm)\n",
    "\n",
    "# display_all()\n",
    "\n",
    "# # display(widgets.HBox([button1, button2, button3, button4]))\n",
    "# # draw()\n",
    "# # display(out)\n",
    "# # display(button5)"
   ],
   "metadata": {
    "collapsed": false,
    "pycharm": {
     "name": "#%%\n"
    }
   }
  },
  {
   "cell_type": "code",
   "execution_count": null,
   "outputs": [],
   "source": [
    "%gui asyncio\n",
    "\n",
    "import ipywidgets as widgets\n",
    "from IPython.display import display, clear_output, HTML\n",
    "\n",
    "import asyncio\n",
    "\n",
    "candidate_list = []\n",
    "example_columns = []\n",
    "\n",
    "row_num = 3\n",
    "col_num = 3\n",
    "\n",
    "default_values = [[\"school\", \"type\", \"rating\"], [\"Ogden International High School\", \"IB\", \"Level 1\"],\n",
    "                  [\"Hyde Park High School\", \"General Education\", \"Level 2\"]]\n",
    "\n",
    "attr_style = \"<style>.attr input { background-color:#D0F0D0 !important; }</style>\"\n",
    "x = [[widgets.Text(value=default_values[i][j]) for j in range(col_num)] for i in range(row_num)]\n",
    "\n",
    "out = widgets.Output()\n",
    "\n",
    "button1 = widgets.Button(description=\"Add Column\")\n",
    "button2 = widgets.Button(description=\"Remove Column\")\n",
    "button3 = widgets.Button(description=\"Add Row\")\n",
    "button4 = widgets.Button(description=\"Remove Row\")\n",
    "button5 = widgets.Button(description=\"Confirm\")\n",
    "buttons = [button1, button2, button3, button4, button5]\n",
    "\n",
    "\n",
    "def wait_for_change(buttons):\n",
    "    future = asyncio.Future()\n",
    "\n",
    "    def getvalue(change):\n",
    "        future.set_result(change.description)\n",
    "        for button in buttons:\n",
    "            button.on_click(getvalue, remove=True)\n",
    "        # we need to free up the binding to getvalue to avoid an InvalidState error\n",
    "        # buttons don't support unobserve\n",
    "        # so use `remove=True`\n",
    "\n",
    "    for button in buttons:\n",
    "        button.on_click(getvalue)\n",
    "    return future\n",
    "\n",
    "\n",
    "@out.capture()\n",
    "def draw(x, row_num, col_num):\n",
    "    attr_line = [widgets.HTML(attr_style)]\n",
    "    attr_line.extend([item.add_class('attr') for item in x[0]])\n",
    "    attrs = widgets.HBox(attr_line)\n",
    "    display(widgets.VBox([attrs] + [widgets.HBox(x[i]) for i in range(1, row_num)]))\n",
    "    # display(widgets.VBox([widgets.HBox(x[i]) for i in range(1, row_num)]))\n",
    "\n",
    "\n",
    "@out.capture()\n",
    "def display_all(x, row_num, col_num):\n",
    "    print(\"Input examples\")\n",
    "    display(widgets.HBox([button1, button2, button3, button4]))\n",
    "    draw(x, row_num, col_num)\n",
    "    # display(out)\n",
    "    display(button5)\n",
    "\n",
    "\n",
    "@out.capture()\n",
    "def add_column(x, row_num, col_num):\n",
    "    # global col_num\n",
    "    # global x\n",
    "    col_num += 1\n",
    "    x[0].append(widgets.Text(value=\"col\"+str(len(x[0]))))\n",
    "    for i in range(1, row_num):\n",
    "        x[i].append(widgets.Text())\n",
    "    return x, row_num, col_num\n",
    "    # out.clear_output()\n",
    "    # with out:\n",
    "    #     display_all()\n",
    "\n",
    "\n",
    "@out.capture()\n",
    "def remove_column(x, row_num, col_num):\n",
    "    # global col_num\n",
    "    # global x\n",
    "    for i in range(row_num):\n",
    "        w = x[i].pop()\n",
    "        w.close()\n",
    "    col_num -= 1\n",
    "    return x, row_num, col_num\n",
    "    # out.clear_output()\n",
    "    # with out:\n",
    "    #     display_all()\n",
    "\n",
    "\n",
    "@out.capture()\n",
    "def add_row(x, row_num, col_num):\n",
    "    # global row_num\n",
    "    # global x\n",
    "    row_num += 1\n",
    "    x.append([widgets.Text() for _ in range(col_num)])\n",
    "    return x, row_num, col_num\n",
    "    # out.clear_output()\n",
    "    # with out:\n",
    "    #     display_all()\n",
    "\n",
    "\n",
    "@out.capture()\n",
    "def remove_row(x, row_num, col_num):\n",
    "    # global row_num\n",
    "    # global x\n",
    "    # global out\n",
    "    ws = x.pop()\n",
    "    for w in ws:\n",
    "        w.close()\n",
    "    row_num -= 1\n",
    "    return x, row_num, col_num\n",
    "    # out.clear_output()\n",
    "    # with out:\n",
    "    #     display_all()\n",
    "\n",
    "# example_columns = []\n",
    "    \n",
    "@out.capture()\n",
    "def confirm(x, row_num, col_num):\n",
    "    global values\n",
    "    global attrs\n",
    "    values = []\n",
    "    attrs = []\n",
    "    candidate_list = [[] for _ in range(col_num)]\n",
    "    for i in range(row_num):\n",
    "        row = []\n",
    "        for j in range(col_num):\n",
    "            if i == 0:\n",
    "                attrs.append(x[i][j].value)\n",
    "            else:\n",
    "                row.append(x[i][j].value)\n",
    "        if i != 0:\n",
    "            values.append(row)\n",
    "            \n",
    "#     global example_columns\n",
    "    example_columns = []\n",
    "\n",
    "    for i, attr in enumerate(attrs):\n",
    "        example_col = ExampleColumn(attr, [values[j][i] for j in range(row_num - 1)])\n",
    "        example_columns.append(example_col)\n",
    "\n",
    "    \n",
    "    print(\"Confirmed\")\n",
    "    # self.get_relevant_columns(example_columns)\n",
    "    \n",
    "    return example_columns\n",
    "\n",
    "\n",
    "async def f():\n",
    "    row_num = 3\n",
    "    col_num = 3\n",
    "\n",
    "    x = [[widgets.Text(value=default_values[i][j]) for j in range(col_num)] for i in range(row_num)]\n",
    "\n",
    "\n",
    "    while True:\n",
    "        out.clear_output()\n",
    "        display_all(x, row_num, col_num)\n",
    "\n",
    "        option_picked = await wait_for_change(buttons)\n",
    "\n",
    "        if option_picked == \"Add Column\":\n",
    "            x, row_num, col_num = add_column(x, row_num, col_num)\n",
    "        elif option_picked == \"Remove Column\":\n",
    "            x, row_num, col_num = remove_column(x, row_num, col_num)\n",
    "        elif option_picked == \"Add Row\":\n",
    "            x, row_num, col_num = add_row(x, row_num, col_num)\n",
    "        elif option_picked == \"Remove Row\":\n",
    "            x, row_num, col_num = remove_row(x, row_num, col_num)\n",
    "        elif option_picked == \"Confirm\":\n",
    "            example_columns = confirm(x, row_num, col_num)\n",
    "            break\n",
    "\n",
    "    return example_columns\n",
    "\n",
    "\n",
    "task = asyncio.ensure_future(f())\n",
    "# asyncio.create_task(f())\n",
    "# example_columns = f()\n",
    "# display(out)\n",
    "# await f()\n",
    "\n",
    "# await task\n",
    "# example_columns = task.result()"
   ],
   "metadata": {
    "collapsed": false,
    "pycharm": {
     "name": "#%%\n"
    }
   }
  },
  {
   "cell_type": "code",
   "execution_count": null,
   "outputs": [],
   "source": [
    "await task\n",
    "example_columns = task.result()"
   ],
   "metadata": {
    "collapsed": false,
    "pycharm": {
     "name": "#%%\n"
    }
   }
  },
  {
   "cell_type": "code",
   "execution_count": null,
   "outputs": [],
   "source": [
    "for example_column in example_columns:\n",
    "    print(example_column.attr)\n",
    "    print(example_column.examples)"
   ],
   "metadata": {
    "collapsed": false,
    "pycharm": {
     "name": "#%%\n"
    }
   }
  },
  {
   "cell_type": "markdown",
   "source": [
    "# Find Candidate Columns"
   ],
   "metadata": {
    "collapsed": false,
    "pycharm": {
     "name": "#%% md\n"
    }
   }
  },
  {
   "cell_type": "code",
   "execution_count": null,
   "outputs": [],
   "source": [
    "# qbe = QueryByExample(aurum_api)\n",
    "# candidate_list = qbe.find_candidate_columns(example_columns, cluster_prune=True)\n",
    "\n",
    "from IPython.display import display\n",
    "\n",
    "layout = widgets.Layout(width='auto', height='40px') #set width and height\n",
    "\n",
    "button = widgets.Button(description=\"find candidate columns\", \n",
    "                        disabled=False,\n",
    "                        display='flex',\n",
    "                        flex_flow='column',\n",
    "                        align_items='stretch', \n",
    "                        layout = layout)\n",
    "\n",
    "output = widgets.Output()\n",
    "\n",
    "result = []\n",
    "\n",
    "# display(button, output)\n",
    "\n",
    "def find_candidate_columns(b):\n",
    "    with output:\n",
    "        print(\"finding candidate columns...\")\n",
    "\n",
    "    fake_candidate_cols = [[\"Chicago Public Schools - School Admissions Information SY2122.csv.long_name\", \"Chicago Public Schools - School Admissions Information SY2223.csv.long_name\"], [\"Chicago Public Schools - School Admissions Information SY2122.csv.program_group\",\n",
    "\"Chicago Public Schools - School Admissions Information SY2223.csv.program_group\"], [\"Chicago Public Schools - School Profile Information SY2223.csv.overall_rating\", \"Chicago Public Schools - School Profile Information SY2122.csv.overall_rating\"]]\n",
    "#     find_candidate_columns.data = fake_candidate_cols\n",
    "\n",
    "    global result\n",
    "    result = fake_candidate_cols\n",
    "\n",
    "    with output:\n",
    "        print(\"complete\")\n",
    "    # return find_candidate_columns.data\n",
    "\n",
    "button.on_click(find_candidate_columns)\n",
    "display(button)"
   ],
   "metadata": {
    "collapsed": false,
    "pycharm": {
     "name": "#%%\n"
    }
   }
  },
  {
   "cell_type": "code",
   "execution_count": null,
   "outputs": [],
   "source": [
    "candidate_list = result\n",
    "for i, candidate in enumerate(candidate_list):\n",
    "    print('\\ncolumn {}: found {} candidate columns'.format(example_columns[i].attr, len(candidate)))\n",
    "    for c in candidate:\n",
    "        print(c)"
   ],
   "metadata": {
    "collapsed": false,
    "pycharm": {
     "name": "#%%\n"
    }
   }
  },
  {
   "cell_type": "code",
   "execution_count": null,
   "outputs": [],
   "source": [
    "import warnings\n",
    "warnings.simplefilter(action='ignore', category=FutureWarning)\n",
    "\n",
    "import pandas as pd\n",
    "from IPython.display import display, clear_output, HTML\n",
    "from ipywidgets import interact, Dropdown\n",
    "\n",
    "data_path = './test_data/'\n",
    "\n",
    "output = widgets.Output()\n",
    "\n",
    "default_col = example_columns[0].attr\n",
    "\n",
    "candidate_columns_dict = {}\n",
    "for i, candidate in enumerate(candidate_list):\n",
    "    candidate_columns_dict[example_columns[i].attr] = candidate\n",
    "\n",
    "def highlight_cols(s, color='lightgreen'):\n",
    "    return 'background-color: %s' % color\n",
    "\n",
    "def apply_highlight(df, cols_to_highlight, color='lightyellow'):\n",
    "    html = df.style.applymap(highlight_cols,\n",
    "                         subset=pd.IndexSlice[:, cols_to_highlight],\n",
    "                        color=color).render()\n",
    "    return html\n",
    "\n",
    "def display_candidate(candidate, dropdown_candidate, num=10):\n",
    "    \n",
    "    output.clear_output()\n",
    "    \n",
    "#     global dropdown_candidate\n",
    "    \n",
    "    with output:\n",
    "#         print(dropdown_candidate.options)\n",
    "        print(\"View Candidate Columns\")\n",
    "        display(dropdown_col, dropdown_candidate, bounded_num)\n",
    "            \n",
    "    split = candidate.rsplit(\".\", 1)\n",
    "    table_name, col_name = split[0], split[1]\n",
    "    with output:\n",
    "        print(\"candidate table column:\", table_name, col_name)\n",
    "\n",
    "    df = pd.read_csv(os.path.join(data_path, table_name))\n",
    "    df = df.head(num)\n",
    "    cols_to_highlight = [col_name]\n",
    "\n",
    "    html = apply_highlight(df, cols_to_highlight)\n",
    "    \n",
    "    with output:\n",
    "        display(HTML(html))\n",
    "\n",
    "def dropdown_col_eventhandler(change):\n",
    "    col = change.new\n",
    "#     global dropdown_candidate\n",
    "#     dropdown_candidate.options = list(candidate_columns_dict[col])\n",
    "    new_dropdown_candidate = widgets.Dropdown(description=\"Candidate Table Column\", options=list(candidate_columns_dict[col]))\n",
    "    dropdown_candidate = new_dropdown_candidate                         \n",
    "    dropdown_candidate.observe(dropdown_candidate_eventhandler, names='value')\n",
    "    \n",
    "    num = int(bounded_num.value)\n",
    "    \n",
    "    display_candidate(dropdown_candidate.options[0], dropdown_candidate, num=num)\n",
    "\n",
    "def dropdown_candidate_eventhandler(change):\n",
    "    candidate = change.new\n",
    "    \n",
    "#     col = dropdown_col.value\n",
    "#     global dropdown_candidate\n",
    "#     new_dropdown_candidate = widgets.Dropdown(description=\"Candidate Table Column\", options=list(candidate_columns_dict[col]))\n",
    "#     dropdown_candidate = new_dropdown_candidate   \n",
    "\n",
    "    num = int(bounded_num.value)\n",
    "\n",
    "    dropdown_candidate.observe(dropdown_candidate_eventhandler, names='value')\n",
    "    display_candidate(candidate, dropdown_candidate, num=num)\n",
    "    \n",
    "def bounded_num_eventhandler(change):\n",
    "    num = int(change.new)\n",
    "    \n",
    "    col = dropdown_col.value\n",
    "    new_dropdown_candidate = widgets.Dropdown(description=\"Candidate Table Column\", options=list(candidate_columns_dict[col]))\n",
    "    dropdown_candidate = new_dropdown_candidate            \n",
    "    dropdown_candidate.observe(dropdown_candidate_eventhandler, names='value')\n",
    "    \n",
    "    candidate=dropdown_candidate.value\n",
    "    \n",
    "    display_candidate(candidate, dropdown_candidate, num=num)\n",
    "\n",
    "    \n",
    "dropdown_col = widgets.Dropdown(options=list(candidate_columns_dict.keys()), description=\"Column Name\")\n",
    "dropdown_candidate = widgets.Dropdown(description=\"Candidate Table Column\", options=candidate_columns_dict[default_col])\n",
    "bounded_num = widgets.BoundedFloatText(min=0, max=1000, value=10, step=1, description=\"Size\")\n",
    "\n",
    "dropdown_col.observe(dropdown_col_eventhandler, names='value')\n",
    "dropdown_candidate.observe(dropdown_candidate_eventhandler, names='value')\n",
    "bounded_num.observe(bounded_num_eventhandler, names='value')\n",
    "\n",
    "print(\"View Candidate Columns\")\n",
    "\n",
    "display(dropdown_col, dropdown_candidate, bounded_num)\n",
    "\n",
    "display(output)\n"
   ],
   "metadata": {
    "collapsed": false,
    "pycharm": {
     "name": "#%%\n"
    }
   }
  },
  {
   "cell_type": "markdown",
   "source": [
    "# Find Join Graphs"
   ],
   "metadata": {
    "collapsed": false,
    "pycharm": {
     "name": "#%% md\n"
    }
   }
  },
  {
   "cell_type": "code",
   "execution_count": null,
   "outputs": [],
   "source": [
    "# join_graphs = qbe.find_join_graphs_between_candidate_columns(candidate_list, order_chain_only=True)\n",
    "# print(\"found {} join graphs\".format(len(join_graphs)))\n",
    "\n",
    "class JoinPath:\n",
    "    def __init__(self, path: list, tbl_proj_attrs):\n",
    "        # join path is a list of key pairs: [join_key1, join_key2], [join_key3, join_key4]\n",
    "        self.path = path\n",
    "        self.tbl_proj_attrs = tbl_proj_attrs\n",
    "\n",
    "button = widgets.Button(description=\"find join graphs\", layout=layout)\n",
    "output = widgets.Output()\n",
    "\n",
    "result = []\n",
    "\n",
    "def find_join_graphs_between_candidate_columns(b):\n",
    "    with output:\n",
    "        print(\"finding join graphs...\")\n",
    "\n",
    "    fake_join_graphs = []\n",
    "\n",
    "    # join_graph1 = {}\n",
    "    # join_graph1[(0, 1)] = JoinPath(path=[\"Chicago Public Schools - School Admissions Information SY2223.csv.long_name\", \"Chicago Public Schools - School Admissions Information SY2223.csv.long_name\"], tbl_proj_attrs=[[\"Chicago Public Schools - School Admissions Information SY2223.csv.long_name\"], [\"Chicago Public Schools - School Admissions Information SY2223.csv.program_group\"]])\n",
    "    # join_graph1[(1, 2)] = JoinPath(path=[\"Chicago Public Schools - School Admissions Information SY2223.csv.short_name\", \"Chicago Public Schools - School Profile Information SY2223.csv.long_name\"], tbl_proj_attrs=[[\"Chicago Public Schools - School Admissions Information SY2223.csv.program_group\"], [\"Chicago Public Schools - School Profile Information SY2223.csv.overall_rating\"]])\n",
    "    #\n",
    "    # fake_join_graphs.append(join_graph1)\n",
    "    #\n",
    "    # join_graph2 = {}\n",
    "    # join_graph2[(0, 1)] = JoinPath(path=[\"Chicago Public Schools - School Admissions Information SY2223.csv.long_name\", \"Chicago Public Schools - School Admissions Information SY2223.csv.long_name\"], tbl_proj_attrs=[[\"Chicago Public Schools - School Admissions Information SY2223.csv.long_name\"], [\"Chicago Public Schools - School Admissions Information SY2223.csv.program_group\"]])\n",
    "    # join_graph2[(1, 2)] = JoinPath(path=[\"Chicago Public Schools - School Admissions Information SY2223.csv.short_name\", \"Chicago Public Schools - School Profile Information SY2223.csv.short_name\"], tbl_proj_attrs=[[\"Chicago Public Schools - School Admissions Information SY2223.csv.program_group\"], [\"Chicago Public Schools - School Profile Information SY2223.csv.overall_rating\"]])\n",
    "    #\n",
    "    # fake_join_graphs.append(join_graph2)\n",
    "\n",
    "    join_graph1 = {}\n",
    "    join_graph1[\"tables\"] = (\"Chicago Public Schools - School Admissions Information SY2223.csv\", \"Chicago Public Schools - School Profile Information SY2122.csv\")\n",
    "    join_graph1[\"join_keys\"] = (\"short_name\", \"long_name\")\n",
    "    join_graph1[\"attrs_to_project\"] = ([\"long_name\", \"program_group\"], [\"overall_rating\"])\n",
    "    fake_join_graphs.append(join_graph1)\n",
    "\n",
    "    join_graph2 = {}\n",
    "    join_graph2[\"tables\"] = (\"Chicago Public Schools - School Admissions Information SY2223.csv\", \"Chicago Public Schools - School Profile Information SY2223.csv\")\n",
    "    join_graph2[\"join_keys\"] = (\"short_name\", \"short_name\")\n",
    "    join_graph2[\"attrs_to_project\"] = ([\"long_name\", \"program_group\"], [\"overall_rating\"])\n",
    "    fake_join_graphs.append(join_graph2)\n",
    "\n",
    "    global result\n",
    "    result = fake_join_graphs\n",
    "\n",
    "    # find_join_graphs_between_candidate_columns.data = fake_join_graphs\n",
    "\n",
    "    with output:\n",
    "        print(f\"found {len(fake_join_graphs)} join graphs\")\n",
    "\n",
    "    # return find_join_graphs_between_candidate_columns.data\n",
    "\n",
    "button.on_click(find_join_graphs_between_candidate_columns)\n",
    "display(button)"
   ],
   "metadata": {
    "collapsed": false,
    "pycharm": {
     "name": "#%%\n"
    }
   }
  },
  {
   "cell_type": "code",
   "execution_count": null,
   "outputs": [],
   "source": [
    "# join_graphs = find_join_graphs_between_candidate_columns.data\n",
    "join_graphs = result\n",
    "\n",
    "for i, join_graph in enumerate(join_graphs):\n",
    "    print(\"----join graph {}----\".format(i))\n",
    "    # join_graph.display()\n",
    "    print(join_graph)"
   ],
   "metadata": {
    "collapsed": false,
    "pycharm": {
     "name": "#%%\n"
    }
   }
  },
  {
   "cell_type": "code",
   "execution_count": null,
   "outputs": [],
   "source": [
    "import warnings\n",
    "warnings.simplefilter(action='ignore', category=FutureWarning)\n",
    "\n",
    "import pandas as pd\n",
    "from IPython.display import display, clear_output, HTML\n",
    "from ipywidgets import interact, Dropdown\n",
    "\n",
    "data_path = './test_data/'\n",
    "\n",
    "output = widgets.Output()\n",
    "\n",
    "from IPython.display import display_html\n",
    "from itertools import chain,cycle\n",
    "\n",
    "def display_side_by_side(dfs,titles=cycle(['']), cols_to_highlight=None):\n",
    "    html_str=''\n",
    "    i = 0\n",
    "    for df, title in zip(dfs, chain(titles,cycle(['</br>'])) ):\n",
    "        html_str += '<th style=\"text-align:center\"><td style=\"vertical-align:top\">'\n",
    "        html_str += f'<h2 style=\"text-align:center;\">{title}</h2>'\n",
    "\n",
    "        df_html = df.to_html()\n",
    "        if cols_to_highlight is not None:\n",
    "#             print([cols_to_highlight[i]])\n",
    "            df_html = apply_highlight(df, [cols_to_highlight[i]])\n",
    "            i+=1\n",
    "\n",
    "        html_str += df_html.replace('table','table style=\"display:inline\"')\n",
    "        html_str += '</td></th>'\n",
    "    display_html(html_str,raw=True)\n",
    "\n",
    "def display_join_graph(join_graph_idx, num=10):\n",
    "\n",
    "    output.clear_output()\n",
    "\n",
    "#     global dropdown_candidate\n",
    "\n",
    "    with output:\n",
    "#         print(dropdown_candidate.options)\n",
    "        print(\"View Join Graphs\")\n",
    "        display(dropdown_idx, bounded_num)\n",
    "\n",
    "    dfs = []\n",
    "    # titles = join_graphs[join_graph_idx]\n",
    "    join_graph = join_graphs[join_graph_idx]\n",
    "\n",
    "    table_names = list(join_graph[\"tables\"])\n",
    "    join_keys = list(join_graph[\"join_keys\"])\n",
    "\n",
    "    for i, table_name in enumerate(table_names):\n",
    "\n",
    "        join_key = join_keys[i]\n",
    "        attrs_to_project = join_graph[\"attrs_to_project\"][i]\n",
    "        \n",
    "#         print(join_graph[\"attrs_to_project\"])\n",
    "#         print(join_key, attrs_to_project)\n",
    "\n",
    "        cols = attrs_to_project.copy()\n",
    "        cols.append(join_key)\n",
    "        \n",
    "        \n",
    "        df = pd.read_csv(os.path.join(data_path, table_name))[cols]\n",
    "        \n",
    "        if isinstance(df, pd.Series):\n",
    "            df.to_frame()\n",
    "            \n",
    "        df = df.head(num)\n",
    "\n",
    "        dfs.append(df)\n",
    "\n",
    "    with output:\n",
    "        display_side_by_side(dfs, table_names, join_keys)\n",
    "\n",
    "def dropdown_idx_eventhandler(change):\n",
    "    idx = int(change.new)\n",
    "    num = int(bounded_num.value)\n",
    "    display_join_graph(idx, num)\n",
    "\n",
    "def bounded_num_eventhandler(change):\n",
    "    num = int(change.new)\n",
    "    idx = dropdown_idx.value\n",
    "    display_join_graph(idx, num)\n",
    "\n",
    "\n",
    "dropdown_idx = widgets.Dropdown(options=[i for i in range(len(join_graphs))], description=\"Idx\")\n",
    "bounded_num = widgets.BoundedFloatText(min=0, max=1000, value=10, step=1, description=\"Size\")\n",
    "\n",
    "dropdown_idx.observe(dropdown_idx_eventhandler, names='value')\n",
    "bounded_num.observe(bounded_num_eventhandler, names='value')\n",
    "\n",
    "print(\"View Join Graphs\")\n",
    "display(dropdown_idx, bounded_num)\n",
    "display(output)\n"
   ],
   "metadata": {
    "collapsed": false,
    "pycharm": {
     "name": "#%%\n"
    }
   }
  },
  {
   "cell_type": "markdown",
   "source": [
    "# Materialize Join Graphs"
   ],
   "metadata": {
    "collapsed": false,
    "pycharm": {
     "name": "#%% md\n"
    }
   }
  },
  {
   "cell_type": "code",
   "execution_count": null,
   "outputs": [],
   "source": [
    "button = widgets.Button(description=\"materialize join graphs\", layout=layout)\n",
    "output = widgets.Output()\n",
    "\n",
    "# display(button, output)\n",
    "\n",
    "result = []\n",
    "\n",
    "def materialize_join_graphs(b):\n",
    "    with output:\n",
    "        print(\"materializing join graphs...\")\n",
    "\n",
    "    fake_dfs = []\n",
    "    fake_dfs.append(pd.read_csv(\"./test_data/Chicago Public Schools - School Profile Information SY2223.csv\"))\n",
    "    fake_dfs.append(pd.read_csv(\"./test_data/Chicago Public Schools - School Admissions Information SY2223.csv\"))\n",
    "    fake_dfs.append(pd.read_csv(\"./test_data/Chicago Public Schools - School Profile Information SY2122.csv\"))\n",
    "    fake_dfs.append(pd.read_csv(\"./test_data/Chicago Public Schools - School Admissions Information SY2122.csv\"))\n",
    "\n",
    "    global result\n",
    "    result = fake_dfs\n",
    "#     materialize_join_graphs.data = fake_dfs\n",
    "\n",
    "    with output:\n",
    "        print(f\"materialized {len(fake_dfs)} views\")\n",
    "\n",
    "#     return materialize_join_graphs.data\n",
    "\n",
    "button.on_click(materialize_join_graphs)\n",
    "display(button)"
   ],
   "metadata": {
    "collapsed": false,
    "pycharm": {
     "name": "#%%\n"
    }
   }
  },
  {
   "cell_type": "code",
   "execution_count": null,
   "outputs": [],
   "source": [
    "dfs = result"
   ],
   "metadata": {
    "collapsed": false,
    "pycharm": {
     "name": "#%%\n"
    }
   }
  },
  {
   "cell_type": "code",
   "execution_count": null,
   "outputs": [],
   "source": [
    "import warnings\n",
    "warnings.simplefilter(action='ignore', category=FutureWarning)\n",
    "\n",
    "import pandas as pd\n",
    "from IPython.display import display, clear_output, HTML\n",
    "from ipywidgets import interact, Dropdown\n",
    "\n",
    "data_path = './test_data/'\n",
    "\n",
    "output = widgets.Output()\n",
    "\n",
    "\n",
    "def display_view(view_idx, num=10):\n",
    "\n",
    "    output.clear_output()\n",
    "\n",
    "#     global dropdown_candidate\n",
    "\n",
    "    with output:\n",
    "#         print(dropdown_candidate.options)\n",
    "        print(\"Show Views\")\n",
    "        display(dropdown_view, bounded_num)\n",
    "\n",
    "    df = dfs[view_idx].head(num)\n",
    "\n",
    "    with output:\n",
    "        display(df)\n",
    "\n",
    "def dropdown_view_eventhandler(change):\n",
    "    idx = int(change.new)\n",
    "    num = int(bounded_num.value)\n",
    "    display_view(idx, num)\n",
    "\n",
    "def bounded_num_eventhandler(change):\n",
    "    num = int(change.new)\n",
    "    idx = dropdown_idx.value\n",
    "    display_view(idx, num)\n",
    "\n",
    "dropdown_view = widgets.Dropdown(options=[i for i in range(len(dfs))], description=\"Idx\")\n",
    "bounded_num = widgets.BoundedFloatText(min=0, max=1000, value=10, step=1, description=\"Size\")\n",
    "\n",
    "dropdown_view.observe(dropdown_view_eventhandler, names='value')\n",
    "bounded_num.observe(bounded_num_eventhandler, names='value')\n",
    "\n",
    "print(\"Show Views\")\n",
    "display(dropdown_view, bounded_num)\n",
    "display(output)\n"
   ],
   "metadata": {
    "collapsed": false,
    "pycharm": {
     "name": "#%%\n"
    }
   }
  },
  {
   "cell_type": "markdown",
   "source": [
    "# View Distillation"
   ],
   "metadata": {
    "collapsed": false,
    "pycharm": {
     "name": "#%% md\n"
    }
   }
  },
  {
   "cell_type": "code",
   "execution_count": null,
   "outputs": [],
   "source": [
    "from view_distillation import view_distillation\n",
    "\n",
    "vd = view_distillation.ViewDistillation(dfs=dfs)\n",
    "\n",
    "button = widgets.Button(description=\"distill views\")\n",
    "output = widgets.Output()\n",
    "\n",
    "# display(button, output)\n",
    "\n",
    "def distill_views(b):\n",
    "    with output:\n",
    "        print(\"distilling views...\")\n",
    "\n",
    "    with output:\n",
    "        vd.prune_graph()\n",
    "\n",
    "\n",
    "button.on_click(distill_views)\n",
    "display(button)"
   ],
   "metadata": {
    "collapsed": false,
    "pycharm": {
     "name": "#%%\n"
    }
   }
  },
  {
   "cell_type": "markdown",
   "source": [
    "# View Presentation"
   ],
   "metadata": {
    "collapsed": false,
    "pycharm": {
     "name": "#%% md\n"
    }
   }
  },
  {
   "cell_type": "code",
   "execution_count": 18,
   "metadata": {
    "pycharm": {
     "name": "#%%\n"
    }
   },
   "outputs": [],
   "source": [
    "dfs = result"
   ]
  },
  {
   "cell_type": "code",
   "execution_count": 19,
   "metadata": {
    "pycharm": {
     "name": "#%%\n"
    }
   },
   "outputs": [
    {
     "name": "stdout",
     "output_type": "stream",
     "text": [
      "Show Views\n"
     ]
    },
    {
     "data": {
      "application/vnd.jupyter.widget-view+json": {
       "model_id": "7547e9daffd94a99b9f5b66e41386421",
       "version_major": 2,
       "version_minor": 0
      },
      "text/plain": [
       "Dropdown(description='Idx', options=(0, 1, 2, 3), value=0)"
      ]
     },
     "metadata": {},
     "output_type": "display_data"
    },
    {
     "data": {
      "application/vnd.jupyter.widget-view+json": {
       "model_id": "d98a28f44dfd4bd29a98089b2490bb5f",
       "version_major": 2,
       "version_minor": 0
      },
      "text/plain": [
       "BoundedFloatText(value=10.0, description='Size', max=1000.0, step=1.0)"
      ]
     },
     "metadata": {},
     "output_type": "display_data"
    },
    {
     "data": {
      "text/html": [
       "<div>\n",
       "<style scoped>\n",
       "    .dataframe tbody tr th:only-of-type {\n",
       "        vertical-align: middle;\n",
       "    }\n",
       "\n",
       "    .dataframe tbody tr th {\n",
       "        vertical-align: top;\n",
       "    }\n",
       "\n",
       "    .dataframe thead th {\n",
       "        text-align: right;\n",
       "    }\n",
       "</style>\n",
       "<table border=\"1\" class=\"dataframe\">\n",
       "  <thead>\n",
       "    <tr style=\"text-align: right;\">\n",
       "      <th></th>\n",
       "      <th>school_id</th>\n",
       "      <th>legacy_unit_id</th>\n",
       "      <th>finance_id</th>\n",
       "      <th>short_name</th>\n",
       "      <th>long_name</th>\n",
       "      <th>primary_category</th>\n",
       "      <th>is_high_school</th>\n",
       "      <th>is_middle_school</th>\n",
       "      <th>is_elementary_school</th>\n",
       "      <th>is_pre_school</th>\n",
       "      <th>...</th>\n",
       "      <th>sixth_contact_name</th>\n",
       "      <th>significantly_modified</th>\n",
       "      <th>preschool_inclusive</th>\n",
       "      <th>preschool_instructional</th>\n",
       "      <th>visual_impairments</th>\n",
       "      <th>transportation_metra</th>\n",
       "      <th>seventh_contact_title</th>\n",
       "      <th>seventh_contact_name</th>\n",
       "      <th>hard_of_hearing</th>\n",
       "      <th>pinterest</th>\n",
       "    </tr>\n",
       "  </thead>\n",
       "  <tbody>\n",
       "    <tr>\n",
       "      <th>0</th>\n",
       "      <td>400011</td>\n",
       "      <td>4730</td>\n",
       "      <td>66151</td>\n",
       "      <td>LOCKE A</td>\n",
       "      <td>Alain Locke Charter School</td>\n",
       "      <td>ES</td>\n",
       "      <td>False</td>\n",
       "      <td>True</td>\n",
       "      <td>True</td>\n",
       "      <td>False</td>\n",
       "      <td>...</td>\n",
       "      <td>NaN</td>\n",
       "      <td>NaN</td>\n",
       "      <td>NaN</td>\n",
       "      <td>NaN</td>\n",
       "      <td>NaN</td>\n",
       "      <td>NaN</td>\n",
       "      <td>NaN</td>\n",
       "      <td>NaN</td>\n",
       "      <td>NaN</td>\n",
       "      <td>NaN</td>\n",
       "    </tr>\n",
       "    <tr>\n",
       "      <th>1</th>\n",
       "      <td>609958</td>\n",
       "      <td>3690</td>\n",
       "      <td>29121</td>\n",
       "      <td>GUNSAULUS</td>\n",
       "      <td>Frank W Gunsaulus Elementary Scholastic Academy</td>\n",
       "      <td>ES</td>\n",
       "      <td>False</td>\n",
       "      <td>True</td>\n",
       "      <td>True</td>\n",
       "      <td>True</td>\n",
       "      <td>...</td>\n",
       "      <td>NaN</td>\n",
       "      <td>NaN</td>\n",
       "      <td>NaN</td>\n",
       "      <td>NaN</td>\n",
       "      <td>NaN</td>\n",
       "      <td>NaN</td>\n",
       "      <td>NaN</td>\n",
       "      <td>NaN</td>\n",
       "      <td>NaN</td>\n",
       "      <td>NaN</td>\n",
       "    </tr>\n",
       "    <tr>\n",
       "      <th>2</th>\n",
       "      <td>400049</td>\n",
       "      <td>5870</td>\n",
       "      <td>67071</td>\n",
       "      <td>LEGACY</td>\n",
       "      <td>Legacy Charter School</td>\n",
       "      <td>ES</td>\n",
       "      <td>False</td>\n",
       "      <td>True</td>\n",
       "      <td>True</td>\n",
       "      <td>False</td>\n",
       "      <td>...</td>\n",
       "      <td>NaN</td>\n",
       "      <td>NaN</td>\n",
       "      <td>NaN</td>\n",
       "      <td>NaN</td>\n",
       "      <td>NaN</td>\n",
       "      <td>NaN</td>\n",
       "      <td>NaN</td>\n",
       "      <td>NaN</td>\n",
       "      <td>NaN</td>\n",
       "      <td>NaN</td>\n",
       "    </tr>\n",
       "    <tr>\n",
       "      <th>3</th>\n",
       "      <td>400134</td>\n",
       "      <td>9051</td>\n",
       "      <td>0</td>\n",
       "      <td>YCCS - ADDAMS</td>\n",
       "      <td>YCCS-Jane Addams Alternative HS</td>\n",
       "      <td>HS</td>\n",
       "      <td>True</td>\n",
       "      <td>False</td>\n",
       "      <td>False</td>\n",
       "      <td>False</td>\n",
       "      <td>...</td>\n",
       "      <td>NaN</td>\n",
       "      <td>NaN</td>\n",
       "      <td>NaN</td>\n",
       "      <td>NaN</td>\n",
       "      <td>NaN</td>\n",
       "      <td>NaN</td>\n",
       "      <td>NaN</td>\n",
       "      <td>NaN</td>\n",
       "      <td>NaN</td>\n",
       "      <td>NaN</td>\n",
       "    </tr>\n",
       "    <tr>\n",
       "      <th>4</th>\n",
       "      <td>400142</td>\n",
       "      <td>9059</td>\n",
       "      <td>0</td>\n",
       "      <td>YCCS - VIRTUAL</td>\n",
       "      <td>YCCS-Virtual HS</td>\n",
       "      <td>HS</td>\n",
       "      <td>True</td>\n",
       "      <td>False</td>\n",
       "      <td>False</td>\n",
       "      <td>False</td>\n",
       "      <td>...</td>\n",
       "      <td>NaN</td>\n",
       "      <td>NaN</td>\n",
       "      <td>NaN</td>\n",
       "      <td>NaN</td>\n",
       "      <td>NaN</td>\n",
       "      <td>NaN</td>\n",
       "      <td>NaN</td>\n",
       "      <td>NaN</td>\n",
       "      <td>NaN</td>\n",
       "      <td>NaN</td>\n",
       "    </tr>\n",
       "    <tr>\n",
       "      <th>5</th>\n",
       "      <td>400147</td>\n",
       "      <td>9066</td>\n",
       "      <td>63141</td>\n",
       "      <td>CHICAGO EXCEL HS</td>\n",
       "      <td>Chicago Excel Academy HS</td>\n",
       "      <td>HS</td>\n",
       "      <td>True</td>\n",
       "      <td>False</td>\n",
       "      <td>False</td>\n",
       "      <td>False</td>\n",
       "      <td>...</td>\n",
       "      <td>NaN</td>\n",
       "      <td>NaN</td>\n",
       "      <td>NaN</td>\n",
       "      <td>NaN</td>\n",
       "      <td>NaN</td>\n",
       "      <td>NaN</td>\n",
       "      <td>NaN</td>\n",
       "      <td>NaN</td>\n",
       "      <td>NaN</td>\n",
       "      <td>NaN</td>\n",
       "    </tr>\n",
       "    <tr>\n",
       "      <th>6</th>\n",
       "      <td>609682</td>\n",
       "      <td>1110</td>\n",
       "      <td>53051</td>\n",
       "      <td>RICHARDS HS</td>\n",
       "      <td>Ellen H Richards Career Academy High School</td>\n",
       "      <td>HS</td>\n",
       "      <td>True</td>\n",
       "      <td>False</td>\n",
       "      <td>False</td>\n",
       "      <td>False</td>\n",
       "      <td>...</td>\n",
       "      <td>NaN</td>\n",
       "      <td>NaN</td>\n",
       "      <td>NaN</td>\n",
       "      <td>NaN</td>\n",
       "      <td>NaN</td>\n",
       "      <td>NaN</td>\n",
       "      <td>NaN</td>\n",
       "      <td>NaN</td>\n",
       "      <td>NaN</td>\n",
       "      <td>NaN</td>\n",
       "    </tr>\n",
       "    <tr>\n",
       "      <th>7</th>\n",
       "      <td>609737</td>\n",
       "      <td>1610</td>\n",
       "      <td>47081</td>\n",
       "      <td>VON STEUBEN HS</td>\n",
       "      <td>Friedrich W von Steuben Metropolitan Science HS</td>\n",
       "      <td>HS</td>\n",
       "      <td>True</td>\n",
       "      <td>False</td>\n",
       "      <td>False</td>\n",
       "      <td>False</td>\n",
       "      <td>...</td>\n",
       "      <td>Carla Escobar</td>\n",
       "      <td>NaN</td>\n",
       "      <td>NaN</td>\n",
       "      <td>NaN</td>\n",
       "      <td>NaN</td>\n",
       "      <td>NaN</td>\n",
       "      <td>NaN</td>\n",
       "      <td>NaN</td>\n",
       "      <td>NaN</td>\n",
       "      <td>NaN</td>\n",
       "    </tr>\n",
       "    <tr>\n",
       "      <th>8</th>\n",
       "      <td>609804</td>\n",
       "      <td>2320</td>\n",
       "      <td>22271</td>\n",
       "      <td>BOONE</td>\n",
       "      <td>Daniel Boone Elementary School</td>\n",
       "      <td>ES</td>\n",
       "      <td>False</td>\n",
       "      <td>True</td>\n",
       "      <td>True</td>\n",
       "      <td>True</td>\n",
       "      <td>...</td>\n",
       "      <td>NaN</td>\n",
       "      <td>NaN</td>\n",
       "      <td>NaN</td>\n",
       "      <td>NaN</td>\n",
       "      <td>NaN</td>\n",
       "      <td>NaN</td>\n",
       "      <td>NaN</td>\n",
       "      <td>NaN</td>\n",
       "      <td>NaN</td>\n",
       "      <td>NaN</td>\n",
       "    </tr>\n",
       "    <tr>\n",
       "      <th>9</th>\n",
       "      <td>609821</td>\n",
       "      <td>2480</td>\n",
       "      <td>22431</td>\n",
       "      <td>BURNHAM</td>\n",
       "      <td>Burnham Elementary Inclusive Academy</td>\n",
       "      <td>ES</td>\n",
       "      <td>False</td>\n",
       "      <td>True</td>\n",
       "      <td>True</td>\n",
       "      <td>True</td>\n",
       "      <td>...</td>\n",
       "      <td>NaN</td>\n",
       "      <td>True</td>\n",
       "      <td>NaN</td>\n",
       "      <td>NaN</td>\n",
       "      <td>NaN</td>\n",
       "      <td>NaN</td>\n",
       "      <td>NaN</td>\n",
       "      <td>NaN</td>\n",
       "      <td>NaN</td>\n",
       "      <td>NaN</td>\n",
       "    </tr>\n",
       "  </tbody>\n",
       "</table>\n",
       "<p>10 rows × 97 columns</p>\n",
       "</div>"
      ],
      "text/plain": [
       "   school_id  legacy_unit_id  finance_id        short_name  \\\n",
       "0     400011            4730       66151           LOCKE A   \n",
       "1     609958            3690       29121         GUNSAULUS   \n",
       "2     400049            5870       67071            LEGACY   \n",
       "3     400134            9051           0     YCCS - ADDAMS   \n",
       "4     400142            9059           0    YCCS - VIRTUAL   \n",
       "5     400147            9066       63141  CHICAGO EXCEL HS   \n",
       "6     609682            1110       53051       RICHARDS HS   \n",
       "7     609737            1610       47081    VON STEUBEN HS   \n",
       "8     609804            2320       22271             BOONE   \n",
       "9     609821            2480       22431           BURNHAM   \n",
       "\n",
       "                                         long_name primary_category  \\\n",
       "0                       Alain Locke Charter School               ES   \n",
       "1  Frank W Gunsaulus Elementary Scholastic Academy               ES   \n",
       "2                            Legacy Charter School               ES   \n",
       "3                  YCCS-Jane Addams Alternative HS               HS   \n",
       "4                                  YCCS-Virtual HS               HS   \n",
       "5                         Chicago Excel Academy HS               HS   \n",
       "6      Ellen H Richards Career Academy High School               HS   \n",
       "7  Friedrich W von Steuben Metropolitan Science HS               HS   \n",
       "8                   Daniel Boone Elementary School               ES   \n",
       "9             Burnham Elementary Inclusive Academy               ES   \n",
       "\n",
       "   is_high_school  is_middle_school  is_elementary_school  is_pre_school  ...  \\\n",
       "0           False              True                  True          False  ...   \n",
       "1           False              True                  True           True  ...   \n",
       "2           False              True                  True          False  ...   \n",
       "3            True             False                 False          False  ...   \n",
       "4            True             False                 False          False  ...   \n",
       "5            True             False                 False          False  ...   \n",
       "6            True             False                 False          False  ...   \n",
       "7            True             False                 False          False  ...   \n",
       "8           False              True                  True           True  ...   \n",
       "9           False              True                  True           True  ...   \n",
       "\n",
       "  sixth_contact_name significantly_modified preschool_inclusive  \\\n",
       "0                NaN                    NaN                 NaN   \n",
       "1                NaN                    NaN                 NaN   \n",
       "2                NaN                    NaN                 NaN   \n",
       "3                NaN                    NaN                 NaN   \n",
       "4                NaN                    NaN                 NaN   \n",
       "5                NaN                    NaN                 NaN   \n",
       "6                NaN                    NaN                 NaN   \n",
       "7      Carla Escobar                    NaN                 NaN   \n",
       "8                NaN                    NaN                 NaN   \n",
       "9                NaN                   True                 NaN   \n",
       "\n",
       "  preschool_instructional visual_impairments transportation_metra  \\\n",
       "0                     NaN                NaN                  NaN   \n",
       "1                     NaN                NaN                  NaN   \n",
       "2                     NaN                NaN                  NaN   \n",
       "3                     NaN                NaN                  NaN   \n",
       "4                     NaN                NaN                  NaN   \n",
       "5                     NaN                NaN                  NaN   \n",
       "6                     NaN                NaN                  NaN   \n",
       "7                     NaN                NaN                  NaN   \n",
       "8                     NaN                NaN                  NaN   \n",
       "9                     NaN                NaN                  NaN   \n",
       "\n",
       "   seventh_contact_title seventh_contact_name hard_of_hearing pinterest  \n",
       "0                    NaN                  NaN             NaN       NaN  \n",
       "1                    NaN                  NaN             NaN       NaN  \n",
       "2                    NaN                  NaN             NaN       NaN  \n",
       "3                    NaN                  NaN             NaN       NaN  \n",
       "4                    NaN                  NaN             NaN       NaN  \n",
       "5                    NaN                  NaN             NaN       NaN  \n",
       "6                    NaN                  NaN             NaN       NaN  \n",
       "7                    NaN                  NaN             NaN       NaN  \n",
       "8                    NaN                  NaN             NaN       NaN  \n",
       "9                    NaN                  NaN             NaN       NaN  \n",
       "\n",
       "[10 rows x 97 columns]"
      ]
     },
     "metadata": {},
     "output_type": "display_data"
    }
   ],
   "source": [
    "import warnings\n",
    "warnings.simplefilter(action='ignore', category=FutureWarning)\n",
    "\n",
    "import pandas as pd\n",
    "from IPython.display import display, clear_output, HTML\n",
    "from ipywidgets import interact, Dropdown\n",
    "\n",
    "data_path = './test_data/'\n",
    "\n",
    "output = widgets.Output()\n",
    "\n",
    "\n",
    "def display_view(view_idx, num=10):\n",
    "\n",
    "    output.clear_output()\n",
    "\n",
    "#     global dropdown_candidate\n",
    "\n",
    "    with output:\n",
    "#         print(dropdown_candidate.options)\n",
    "        print(\"Show Views\")\n",
    "        display(dropdown_view, bounded_num)\n",
    "\n",
    "    df = dfs[view_idx].head(num)\n",
    "\n",
    "    with output:\n",
    "        display(df)\n",
    "\n",
    "def dropdown_view_eventhandler(change):\n",
    "    idx = int(change.new)\n",
    "    num = int(bounded_num.value)\n",
    "    display_view(idx, num)\n",
    "\n",
    "def bounded_num_eventhandler(change):\n",
    "    num = int(change.new)\n",
    "    idx = dropdown_idx.value\n",
    "    display_view(idx, num)\n",
    "\n",
    "dropdown_view = widgets.Dropdown(options=[i for i in range(len(dfs))], description=\"Idx\")\n",
    "bounded_num = widgets.BoundedFloatText(min=0, max=1000, value=10, step=1, description=\"Size\")\n",
    "\n",
    "dropdown_view.observe(dropdown_view_eventhandler, names='value')\n",
    "bounded_num.observe(bounded_num_eventhandler, names='value')\n",
    "\n",
    "print(\"Show Views\")\n",
    "display(dropdown_view, bounded_num)\n",
    "display(output)\n"
   ]
  },
  {
   "cell_type": "markdown",
   "metadata": {},
   "source": [
    "# View Distillation"
   ]
  },
  {
   "cell_type": "code",
   "execution_count": 20,
   "metadata": {
    "pycharm": {
     "name": "#%%\n"
    }
   },
   "outputs": [
    {
     "name": "stdout",
     "output_type": "stream",
     "text": [
      "original num views: 2\n",
      "num schema groups: 2\n"
     ]
    },
    {
     "data": {
      "application/vnd.jupyter.widget-view+json": {
       "model_id": "f2877ccf7d684f15a9303c939d4bdcea",
       "version_major": 2,
       "version_minor": 0
      },
      "text/plain": [
       "Button(description='distill views', style=ButtonStyle())"
      ]
     },
     "metadata": {},
     "output_type": "display_data"
    },
    {
     "name": "stdout",
     "output_type": "stream",
     "text": [
      "distilling views...\n"
     ]
    },
    {
     "name": "stderr",
     "output_type": "stream",
     "text": [
      "0it [00:00, ?it/s]\n",
      "0it [00:00, ?it/s]"
     ]
    },
    {
     "name": "stdout",
     "output_type": "stream",
     "text": [
      "num views after pruning compatible: 2\n",
      "num views after pruning contained: 2\n",
      "num views after union complementary: 2\n",
      "num of contradictory view paris: 0\n"
     ]
    },
    {
     "name": "stderr",
     "output_type": "stream",
     "text": [
      "\n"
     ]
    }
   ],
   "source": [
    "from view_distillation import view_distillation\n",
    "\n",
    "vd = view_distillation.ViewDistillation(dfs=dfs)\n",
    "\n",
    "button = widgets.Button(description=\"distill views\")\n",
    "output = widgets.Output()\n",
    "\n",
    "# display(button, output)\n",
    "\n",
    "def distill_views(b):\n",
    "    with output:\n",
    "        print(\"distilling views...\")\n",
    "\n",
    "    with output:\n",
    "        vd.prune_graph()\n",
    "\n",
    "\n",
    "button.on_click(distill_views)\n",
    "display(button)"
   ]
  },
  {
   "cell_type": "markdown",
   "metadata": {},
   "source": [
    "# View Presentation"
   ]
  },
  {
   "cell_type": "code",
   "execution_count": 22,
   "metadata": {},
   "outputs": [
    {
     "data": {
      "application/vnd.jupyter.widget-view+json": {
       "model_id": "6f6840afc90543c1b08d44fe51d24dff",
       "version_major": 2,
       "version_minor": 0
      },
      "text/plain": [
       "Button(description='view presentation', style=ButtonStyle())"
      ]
     },
     "metadata": {},
     "output_type": "display_data"
    },
    {
     "name": "stdout",
     "output_type": "stream",
     "text": [
      "view presentation\n"
     ]
    }
   ],
   "source": [
    "button = widgets.Button(description=\"view presentation\")\n",
    "output = widgets.Output()\n",
    "\n",
    "# display(button, output)\n",
    "\n",
    "def view_presentation(b):\n",
    "    with output:\n",
    "        print(\"view presentation\")\n",
    "\n",
    "button.on_click(view_presentation)\n",
    "display(button)"
   ]
  },
  {
   "cell_type": "code",
   "execution_count": null,
   "metadata": {
    "pycharm": {
     "name": "#%%\n"
    }
   },
   "outputs": [],
   "source": [
    "# import pandas as pd\n",
    "# from IPython.display import display, clear_output, HTML\n",
    "\n",
    "# def highlight_cols(s, color='lightgreen'):\n",
    "#     return 'background-color: %s' % color\n",
    "\n",
    "# def apply_highlight(df, cols_to_highlight, color='lightyellow'):\n",
    "#     html = df.style.applymap(highlight_cols,\n",
    "#                          subset=pd.IndexSlice[:, cols_to_highlight],\n",
    "#                         color=color).render()\n",
    "#     return html\n",
    "\n",
    "# data_path = './test_data/'\n",
    "\n",
    "# df = pd.read_csv(data_path + \"Chicago Public Schools - School Admissions Information SY2223.csv\")\n",
    "# df = df.head(10)\n",
    "# cols_to_highlight = [\"long_name\"]\n",
    "\n",
    "# html = apply_highlight(df, cols_to_highlight)\n",
    "\n",
    "# display(HTML(html))"
   ]
  },
  {
   "cell_type": "code",
   "execution_count": null,
   "metadata": {
    "pycharm": {
     "name": "#%%\n"
    }
   },
   "outputs": [],
   "source": []
  },
  {
   "cell_type": "code",
   "execution_count": null,
   "metadata": {
    "pycharm": {
     "name": "#%%\n"
    }
   },
   "outputs": [],
   "source": []
  },
  {
   "cell_type": "code",
   "execution_count": null,
   "metadata": {
    "pycharm": {
     "name": "#%%\n"
    }
   },
   "outputs": [],
   "source": [
    "# import pandas as pd\n",
    "# from IPython.display import display, clear_output, HTML\n",
    "\n",
    "# def highlight_cols(s, color='lightgreen'):\n",
    "#     return 'background-color: %s' % color\n",
    "\n",
    "# def apply_highlight(df, cols_to_highlight, color='lightyellow'):\n",
    "#     html = df.style.applymap(highlight_cols,\n",
    "#                          subset=pd.IndexSlice[:, cols_to_highlight],\n",
    "#                         color=color).render()\n",
    "#     return html\n",
    "\n",
    "# data_path = './test_data/'\n",
    "\n",
    "# df = pd.read_csv(data_path + \"Chicago Public Schools - School Admissions Information SY2223.csv\")\n",
    "# df = df.head(10)\n",
    "# cols_to_highlight = [\"long_name\"]\n",
    "\n",
    "# html = apply_highlight(df, cols_to_highlight)\n",
    "\n",
    "# display(HTML(html))"
   ]
  },
  {
   "cell_type": "code",
   "execution_count": null,
   "metadata": {
    "pycharm": {
     "name": "#%%\n"
    }
   },
   "outputs": [],
   "source": []
  },
  {
   "cell_type": "code",
   "execution_count": null,
   "metadata": {
    "pycharm": {
     "name": "#%%\n"
    }
   },
   "outputs": [],
   "source": [
    "# import pandas as pd\n",
    "# from IPython.display import display, clear_output, HTML\n",
    "\n",
    "# def highlight_cols(s, color='lightgreen'):\n",
    "#     return 'background-color: %s' % color\n",
    "\n",
    "# def apply_highlight(df, cols_to_highlight, color='lightyellow'):\n",
    "#     html = df.style.applymap(highlight_cols,\n",
    "#                          subset=pd.IndexSlice[:, cols_to_highlight],\n",
    "#                         color=color).render()\n",
    "#     return html\n",
    "\n",
    "# data_path = './test_data/'\n",
    "\n",
    "# df = pd.read_csv(data_path + \"Chicago Public Schools - School Admissions Information SY2223.csv\")\n",
    "# df = df.head(10)\n",
    "# cols_to_highlight = [\"long_name\"]\n",
    "\n",
    "# html = apply_highlight(df, cols_to_highlight)\n",
    "\n",
    "# display(HTML(html))"
   ]
  },
  {
   "cell_type": "code",
   "execution_count": null,
   "metadata": {
    "pycharm": {
     "name": "#%%\n"
    }
   },
   "outputs": [],
   "source": [
    "# import pandas as pd\n",
    "# from IPython.display import display, clear_output, HTML\n",
    "\n",
    "# def highlight_cols(s, color='lightgreen'):\n",
    "#     return 'background-color: %s' % color\n",
    "\n",
    "# def apply_highlight(df, cols_to_highlight, color='lightyellow'):\n",
    "#     html = df.style.applymap(highlight_cols,\n",
    "#                          subset=pd.IndexSlice[:, cols_to_highlight],\n",
    "#                         color=color).render()\n",
    "#     return html\n",
    "\n",
    "# data_path = './test_data/'\n",
    "\n",
    "# df = pd.read_csv(data_path + \"Chicago Public Schools - School Admissions Information SY2223.csv\")\n",
    "# df = df.head(10)\n",
    "# cols_to_highlight = [\"long_name\"]\n",
    "\n",
    "# html = apply_highlight(df, cols_to_highlight)\n",
    "\n",
    "# display(HTML(html))"
   ]
  },
  {
   "cell_type": "code",
   "execution_count": null,
   "metadata": {},
   "outputs": [],
   "source": []
  },
  {
   "cell_type": "code",
   "execution_count": null,
   "metadata": {
    "pycharm": {
     "name": "#%%\n"
    }
   },
   "outputs": [],
   "source": [
    "# import pandas as pd\n",
    "# from IPython.display import display, clear_output, HTML\n",
    "\n",
    "# def highlight_cols(s, color='lightgreen'):\n",
    "#     return 'background-color: %s' % color\n",
    "\n",
    "# def apply_highlight(df, cols_to_highlight, color='lightyellow'):\n",
    "#     html = df.style.applymap(highlight_cols,\n",
    "#                          subset=pd.IndexSlice[:, cols_to_highlight],\n",
    "#                         color=color).render()\n",
    "#     return html\n",
    "\n",
    "# data_path = './test_data/'\n",
    "\n",
    "# df = pd.read_csv(data_path + \"Chicago Public Schools - School Admissions Information SY2223.csv\")\n",
    "# df = df.head(10)\n",
    "# cols_to_highlight = [\"long_name\"]\n",
    "\n",
    "# html = apply_highlight(df, cols_to_highlight)\n",
    "\n",
    "# display(HTML(html))"
   ]
  },
  {
   "cell_type": "code",
   "execution_count": null,
   "metadata": {
    "pycharm": {
     "name": "#%%\n"
    }
   },
   "outputs": [],
   "source": []
  }
 ],
 "metadata": {
  "kernelspec": {
   "display_name": "Python 3 (ipykernel)",
   "language": "python",
   "name": "python3"
  },
  "language_info": {
   "codemirror_mode": {
    "name": "ipython",
    "version": 3
   },
   "file_extension": ".py",
   "mimetype": "text/x-python",
   "name": "python",
   "nbconvert_exporter": "python",
   "pygments_lexer": "ipython3",
   "version": "3.9.6"
  }
 },
 "nbformat": 4,
 "nbformat_minor": 1
}