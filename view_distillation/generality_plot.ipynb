{
 "cells": [
  {
   "cell_type": "code",
   "execution_count": 2,
   "metadata": {
    "collapsed": true,
    "pycharm": {
     "name": "#%%\n"
    }
   },
   "outputs": [],
   "source": [
    "import numpy as np"
   ]
  },
  {
   "cell_type": "code",
   "execution_count": 23,
   "outputs": [
    {
     "name": "stdout",
     "output_type": "stream",
     "text": [
      "1618\n",
      "1325\n",
      "1863\n",
      "340\n",
      "42\n",
      "1504\n",
      "1577\n",
      "1824\n",
      "679\n",
      "859\n"
     ]
    },
    {
     "data": {
      "text/plain": "array([[380, 380],\n       [260, 260],\n       [155, 155],\n       [  2,   2],\n       [620, 613],\n       [192, 169],\n       [  9,   9],\n       [175, 174],\n       [102, 102],\n       [295, 295]])"
     },
     "execution_count": 23,
     "metadata": {},
     "output_type": "execute_result"
    }
   ],
   "source": [
    "import glob\n",
    "import re\n",
    "\n",
    "times_files = glob.glob(\"keyword_result/times/times*.npy\")\n",
    "\n",
    "keyword_times = {}\n",
    "for f in times_files:\n",
    "    time = np.load(f)\n",
    "    query_name = re.search(\"keyword_result/times/times_jp_(\\d+)\\.npy\", f)\n",
    "    query_name = query_name.group(1)\n",
    "    keyword_times[query_name] = time[0]\n",
    "\n",
    "import json\n",
    "with open(\"result_json/keyword_times.json\", \"w\") as f:\n",
    "    json.dump(keyword_times, f)\n",
    "\n",
    "results_files = glob.glob(\"keyword_result/results/results*.npy\")\n",
    "keyword_result_list = []\n",
    "for f in results_files:\n",
    "    result = np.load(f).astype(int)\n",
    "    keyword_result_list.append(result)\n",
    "    query_name = re.search(\"keyword_result/results/results_jp_(\\d+)\\.npy\", f)\n",
    "    query_name = query_name.group(1)\n",
    "    print(query_name)\n",
    "\n",
    "keyword_result = np.array(keyword_result_list)\n",
    "keyword_result[:, [0,3]]"
   ],
   "metadata": {
    "collapsed": false,
    "pycharm": {
     "name": "#%%\n"
    }
   }
  },
  {
   "cell_type": "code",
   "execution_count": 25,
   "outputs": [
    {
     "name": "stdout",
     "output_type": "stream",
     "text": [
      "1618\n",
      "1325\n",
      "1863\n",
      "340\n",
      "42\n",
      "1504\n",
      "1577\n",
      "1824\n",
      "679\n",
      "859\n"
     ]
    },
    {
     "data": {
      "text/plain": "array([[1043, 1043],\n       [ 881,  881],\n       [1030, 1030],\n       [ 730,  730],\n       [  41,   36],\n       [   2,    2],\n       [  11,   11],\n       [   1,    1],\n       [  11,   11],\n       [1043, 1043]])"
     },
     "execution_count": 25,
     "metadata": {},
     "output_type": "execute_result"
    }
   ],
   "source": [
    "times_files = glob.glob(\"attr_result/times/times*.npy\")\n",
    "\n",
    "attr_times = {}\n",
    "for f in times_files:\n",
    "    time = np.load(f)\n",
    "    query_name = re.search(\"attr_result/times/times_jp_(\\d+)\\.npy\", f)\n",
    "    query_name = query_name.group(1)\n",
    "    attr_times[query_name] = time[0]\n",
    "\n",
    "import json\n",
    "with open(\"result_json/attr_times.json\", \"w\") as f:\n",
    "    json.dump(attr_times, f)\n",
    "\n",
    "results_files = glob.glob(\"attr_result/results/results*.npy\")\n",
    "attr_result_list = []\n",
    "for f in results_files:\n",
    "    result = np.load(f).astype(int)\n",
    "    attr_result_list.append(result)\n",
    "    query_name = re.search(\"attr_result/results/results_jp_(\\d+)\\.npy\", f)\n",
    "    query_name = query_name.group(1)\n",
    "    print(query_name)\n",
    "\n",
    "attr_result = np.array(attr_result_list)\n",
    "attr_result[:, [0,3]]"
   ],
   "metadata": {
    "collapsed": false,
    "pycharm": {
     "name": "#%%\n"
    }
   }
  },
  {
   "cell_type": "code",
   "execution_count": 26,
   "outputs": [
    {
     "name": "stdout",
     "output_type": "stream",
     "text": [
      "1618\n",
      "1325\n",
      "1863\n",
      "340\n",
      "42\n",
      "1504\n",
      "1577\n",
      "1824\n",
      "679\n",
      "859\n"
     ]
    },
    {
     "data": {
      "text/plain": "array([[27562, 12017],\n       [  170,    86],\n       [ 5441,  3074],\n       [    2,     2],\n       [  541,    55],\n       [ 5619,   859],\n       [ 4791,  4467],\n       [   93,     7],\n       [ 7878,  7862],\n       [  465,   241]])"
     },
     "execution_count": 26,
     "metadata": {},
     "output_type": "execute_result"
    }
   ],
   "source": [
    "times_files = glob.glob(\"s4_result/times/times*.npy\")\n",
    "\n",
    "qbe_times = {}\n",
    "for f in times_files:\n",
    "    time = np.load(f)\n",
    "    query_name = re.search(\"s4_result/times/times_jp_(\\d+)\\.npy\", f)\n",
    "    query_name = query_name.group(1)\n",
    "    qbe_times[query_name] = time[0]\n",
    "\n",
    "import json\n",
    "with open(\"result_json/qbe_times.json\", \"w\") as f:\n",
    "    json.dump(qbe_times, f)\n",
    "\n",
    "results_files = glob.glob(\"s4_result/results/results*.npy\")\n",
    "qbe_result_list = []\n",
    "for f in results_files:\n",
    "    result = np.load(f).astype(int)\n",
    "    qbe_result_list.append(result)\n",
    "    query_name = re.search(\"s4_result/results/results_jp_(\\d+)\\.npy\", f)\n",
    "    query_name = query_name.group(1)\n",
    "    print(query_name)\n",
    "\n",
    "qbe_result = np.array(qbe_result_list)\n",
    "qbe_result[:, [0,3]]"
   ],
   "metadata": {
    "collapsed": false,
    "pycharm": {
     "name": "#%%\n"
    }
   }
  },
  {
   "cell_type": "code",
   "execution_count": null,
   "outputs": [],
   "source": [],
   "metadata": {
    "collapsed": false,
    "pycharm": {
     "name": "#%%\n"
    }
   }
  }
 ],
 "metadata": {
  "kernelspec": {
   "display_name": "Python 3",
   "language": "python",
   "name": "python3"
  },
  "language_info": {
   "codemirror_mode": {
    "name": "ipython",
    "version": 2
   },
   "file_extension": ".py",
   "mimetype": "text/x-python",
   "name": "python",
   "nbconvert_exporter": "python",
   "pygments_lexer": "ipython2",
   "version": "2.7.6"
  }
 },
 "nbformat": 4,
 "nbformat_minor": 0
}