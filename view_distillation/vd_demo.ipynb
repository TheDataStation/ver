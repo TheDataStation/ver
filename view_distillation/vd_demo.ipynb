{
 "cells": [
  {
   "cell_type": "markdown",
   "metadata": {
    "pycharm": {
     "name": "#%% md\n"
    }
   },
   "source": [
    "# View Distallation Demo"
   ]
  },
  {
   "cell_type": "code",
   "execution_count": 2,
   "metadata": {
    "pycharm": {
     "name": "#%%\n"
    }
   },
   "outputs": [],
   "source": [
    "from view_distillation import ViewDistillation\n",
    "\n",
    "vd = ViewDistillation(\"/Users/zhiruzhu/Desktop/Niffler/ver/view_distillation/dataset/mit_id_test/\")"
   ]
  },
  {
   "cell_type": "code",
   "execution_count": 3,
   "metadata": {
    "pycharm": {
     "name": "#%%\n"
    }
   },
   "outputs": [
    {
     "data": {
      "text/html": [
       "<div>\n",
       "<style scoped>\n",
       "    .dataframe tbody tr th:only-of-type {\n",
       "        vertical-align: middle;\n",
       "    }\n",
       "\n",
       "    .dataframe tbody tr th {\n",
       "        vertical-align: top;\n",
       "    }\n",
       "\n",
       "    .dataframe thead th {\n",
       "        text-align: right;\n",
       "    }\n",
       "</style>\n",
       "<table border=\"1\" class=\"dataframe\">\n",
       "  <thead>\n",
       "    <tr style=\"text-align: right;\">\n",
       "      <th></th>\n",
       "      <th>Last Name</th>\n",
       "      <th>Mit Id</th>\n",
       "      <th>Organization</th>\n",
       "    </tr>\n",
       "  </thead>\n",
       "  <tbody>\n",
       "    <tr>\n",
       "      <th>0</th>\n",
       "      <td>Cornelio</td>\n",
       "      <td>900000624</td>\n",
       "      <td>Nuclear Science and Engineering</td>\n",
       "    </tr>\n",
       "    <tr>\n",
       "      <th>1</th>\n",
       "      <td>Layte</td>\n",
       "      <td>900053097</td>\n",
       "      <td>Student Activities</td>\n",
       "    </tr>\n",
       "    <tr>\n",
       "      <th>2</th>\n",
       "      <td>Schiller</td>\n",
       "      <td>900000761</td>\n",
       "      <td>Brain &amp; Cognitive Sciences</td>\n",
       "    </tr>\n",
       "    <tr>\n",
       "      <th>3</th>\n",
       "      <td>Barnhart</td>\n",
       "      <td>900000856</td>\n",
       "      <td>Chancellor's Office</td>\n",
       "    </tr>\n",
       "    <tr>\n",
       "      <th>4</th>\n",
       "      <td>Stewart</td>\n",
       "      <td>900001346</td>\n",
       "      <td>MIT Energy Initiative</td>\n",
       "    </tr>\n",
       "    <tr>\n",
       "      <th>...</th>\n",
       "      <td>...</td>\n",
       "      <td>...</td>\n",
       "      <td>...</td>\n",
       "    </tr>\n",
       "    <tr>\n",
       "      <th>16492</th>\n",
       "      <td>Burt</td>\n",
       "      <td>922992773</td>\n",
       "      <td>Earth, Atmospheric &amp;  Planetary Sciences</td>\n",
       "    </tr>\n",
       "    <tr>\n",
       "      <th>16493</th>\n",
       "      <td>Donovan</td>\n",
       "      <td>967965775</td>\n",
       "      <td>Chemistry</td>\n",
       "    </tr>\n",
       "    <tr>\n",
       "      <th>16494</th>\n",
       "      <td>Defilippo</td>\n",
       "      <td>922959202</td>\n",
       "      <td>MIT Sea Grant College Program</td>\n",
       "    </tr>\n",
       "    <tr>\n",
       "      <th>16495</th>\n",
       "      <td>Cullon</td>\n",
       "      <td>928131611</td>\n",
       "      <td>History Section</td>\n",
       "    </tr>\n",
       "    <tr>\n",
       "      <th>16496</th>\n",
       "      <td>Odi</td>\n",
       "      <td>928049547</td>\n",
       "      <td>MIT Energy Initiative</td>\n",
       "    </tr>\n",
       "  </tbody>\n",
       "</table>\n",
       "<p>16497 rows × 3 columns</p>\n",
       "</div>"
      ],
      "text/plain": [
       "       Last Name     Mit Id                              Organization\n",
       "0       Cornelio  900000624           Nuclear Science and Engineering\n",
       "1          Layte  900053097                        Student Activities\n",
       "2       Schiller  900000761                Brain & Cognitive Sciences\n",
       "3       Barnhart  900000856                       Chancellor's Office\n",
       "4        Stewart  900001346                     MIT Energy Initiative\n",
       "...          ...        ...                                       ...\n",
       "16492       Burt  922992773  Earth, Atmospheric &  Planetary Sciences\n",
       "16493    Donovan  967965775                                 Chemistry\n",
       "16494  Defilippo  922959202             MIT Sea Grant College Program\n",
       "16495     Cullon  928131611                           History Section\n",
       "16496        Odi  928049547                     MIT Energy Initiative\n",
       "\n",
       "[16497 rows x 3 columns]"
      ]
     },
     "execution_count": 3,
     "metadata": {},
     "output_type": "execute_result"
    }
   ],
   "source": [
    "import pandas as pd\n",
    "df = pd.read_csv(\"/Users/zhiruzhu/Desktop/Niffler/ver/view_distillation/dataset/mit_id_test/view_1\")\n",
    "df"
   ]
  },
  {
   "cell_type": "markdown",
   "metadata": {
    "pycharm": {
     "name": "#%% md\n"
    }
   },
   "source": [
    "## find compatible views"
   ]
  },
  {
   "cell_type": "code",
   "execution_count": 4,
   "metadata": {
    "pycharm": {
     "name": "#%%\n"
    }
   },
   "outputs": [
    {
     "name": "stdout",
     "output_type": "stream",
     "text": [
      "[['view_34', 'view_33'], ['view_35', 'view_36'], ['view_32', 'view_31'], ['view_50', 'view_24', 'view_12', 'view_13', 'view_25', 'view_28', 'view_48', 'view_27'], ['view_22', 'view_9', 'view_39', 'view_11', 'view_14', 'view_42', 'view_7', 'view_10', 'view_26'], ['view_21', 'view_23'], ['view_6', 'view_8'], ['view_15', 'view_16'], ['view_30', 'view_29'], ['view_54'], ['view_47', 'view_49'], ['view_40', 'view_41'], ['view_4', 'view_5', 'view_51', 'view_52'], ['view_0'], ['view_38', 'view_17', 'view_43', 'view_37', 'view_46', 'view_45', 'view_44', 'view_18', 'view_19', 'view_20', 'view_53'], ['view_1'], ['view_3'], ['view_2']]\n"
     ]
    }
   ],
   "source": [
    "compatible_views = vd.find_compatible_views()\n",
    "print(compatible_views)"
   ]
  },
  {
   "cell_type": "markdown",
   "metadata": {
    "pycharm": {
     "name": "#%% md\n"
    }
   },
   "source": [
    "## keep one compatible view only"
   ]
  },
  {
   "cell_type": "code",
   "execution_count": 5,
   "metadata": {
    "pycharm": {
     "name": "#%%\n"
    }
   },
   "outputs": [
    {
     "name": "stdout",
     "output_type": "stream",
     "text": [
      "['view_34', 'view_35', 'view_32', 'view_50', 'view_21', 'view_6', 'view_30', 'view_54', 'view_22', 'view_47', 'view_40', 'view_15', 'view_4', 'view_0', 'view_38', 'view_1', 'view_3', 'view_2']\n"
     ]
    }
   ],
   "source": [
    "views_left = vd.reduce_compatible_views_to_one()\n",
    "print(views_left)"
   ]
  },
  {
   "cell_type": "markdown",
   "metadata": {
    "pycharm": {
     "name": "#%% md\n"
    }
   },
   "source": [
    "## find contained views"
   ]
  },
  {
   "cell_type": "code",
   "execution_count": 6,
   "metadata": {
    "pycharm": {
     "name": "#%%\n"
    }
   },
   "outputs": [
    {
     "name": "stdout",
     "output_type": "stream",
     "text": [
      "[['view_35', 'view_34'], ['view_22', 'view_21'], ['view_40', 'view_30']]\n"
     ]
    }
   ],
   "source": [
    "contained_views = vd.find_contained_views()\n",
    "print(contained_views)"
   ]
  },
  {
   "cell_type": "markdown",
   "metadata": {
    "pycharm": {
     "name": "#%% md\n"
    }
   },
   "source": [
    "## keep the largest contained view "
   ]
  },
  {
   "cell_type": "code",
   "execution_count": 7,
   "metadata": {
    "pycharm": {
     "name": "#%%\n"
    }
   },
   "outputs": [
    {
     "name": "stdout",
     "output_type": "stream",
     "text": [
      "['view_35', 'view_32', 'view_50', 'view_6', 'view_54', 'view_22', 'view_47', 'view_40', 'view_15', 'view_4', 'view_0', 'view_38', 'view_1', 'view_3', 'view_2']\n"
     ]
    }
   ],
   "source": [
    "views_left = vd.prune_contained_views(keep_largest=True)\n",
    "print(views_left)"
   ]
  },
  {
   "cell_type": "markdown",
   "metadata": {
    "pycharm": {
     "name": "#%% md\n"
    }
   },
   "source": [
    "## select and prune contradictory views"
   ]
  },
  {
   "cell_type": "code",
   "execution_count": 8,
   "metadata": {
    "pycharm": {
     "name": "#%%\n"
    }
   },
   "outputs": [
    {
     "data": {
      "application/javascript": [
       "IPython.OutputArea.auto_scroll_threshold = 9999;\n"
      ],
      "text/plain": [
       "<IPython.core.display.Javascript object>"
      ]
     },
     "metadata": {},
     "output_type": "display_data"
    }
   ],
   "source": [
    "%%javascript\n",
    "IPython.OutputArea.auto_scroll_threshold = 9999;"
   ]
  },
  {
   "cell_type": "code",
   "execution_count": 9,
   "metadata": {
    "pycharm": {
     "name": "#%%\n"
    }
   },
   "outputs": [
    {
     "name": "stdout",
     "output_type": "stream",
     "text": [
      "End\n"
     ]
    }
   ],
   "source": [
    "%gui asyncio\n",
    "\n",
    "task = vd.present_contradictory_views_demo()"
   ]
  },
  {
   "cell_type": "code",
   "execution_count": 10,
   "metadata": {
    "pycharm": {
     "name": "#%%\n"
    }
   },
   "outputs": [
    {
     "name": "stdout",
     "output_type": "stream",
     "text": [
      "{'view_54'}\n"
     ]
    }
   ],
   "source": [
    "await task\n",
    "views_pruned, views_selected, views_left = task.result()\n",
    "print(views_selected)"
   ]
  },
  {
   "cell_type": "code",
   "execution_count": null,
   "outputs": [],
   "source": [
    "## complementary views"
   ],
   "metadata": {
    "collapsed": false,
    "pycharm": {
     "name": "#%%\n"
    }
   }
  },
  {
   "cell_type": "code",
   "execution_count": 11,
   "metadata": {
    "pycharm": {
     "name": "#%%\n"
    }
   },
   "outputs": [
    {
     "data": {
      "text/plain": [
       "[]"
      ]
     },
     "execution_count": 11,
     "metadata": {},
     "output_type": "execute_result"
    }
   ],
   "source": [
    "vd.find_complementary_views()"
   ]
  },
  {
   "cell_type": "code",
   "execution_count": null,
   "metadata": {
    "pycharm": {
     "name": "#%%\n"
    }
   },
   "outputs": [],
   "source": []
  }
 ],
 "metadata": {
  "kernelspec": {
   "display_name": "Python 3 (ipykernel)",
   "language": "python",
   "name": "python3"
  },
  "language_info": {
   "codemirror_mode": {
    "name": "ipython",
    "version": 3
   },
   "file_extension": ".py",
   "mimetype": "text/x-python",
   "name": "python",
   "nbconvert_exporter": "python",
   "pygments_lexer": "ipython3",
   "version": "3.9.6"
  }
 },
 "nbformat": 4,
 "nbformat_minor": 1
}