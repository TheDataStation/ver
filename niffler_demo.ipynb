{
 "cells": [
  {
   "cell_type": "code",
   "execution_count": 1,
   "id": "ef0315bf",
   "metadata": {},
   "outputs": [],
   "source": [
    "from niffler_demo import Demo\n",
    "from knowledgerepr import fieldnetwork\n",
    "from modelstore.elasticstore import StoreHandler\n",
    "from algebra import API \n",
    "from DoD.column_infer import ColumnInfer\n",
    "from DoD.view_search_pruning import ViewSearchPruning"
   ]
  },
  {
   "cell_type": "code",
   "execution_count": 2,
   "id": "33cbb5b5",
   "metadata": {},
   "outputs": [],
   "source": [
    "model_path = '/home/cc/models/nyc_data/'\n",
    "sep = ','\n",
    "base_outpath = '/home/cc/output'\n",
    "# load model file -> may take about 1 min\n",
    "store_client = StoreHandler()\n",
    "network = fieldnetwork.deserialize_network(model_path)\n",
    "aurum_api = API(network=network, store_client=store_client)\n",
    "\n",
    "columnInfer = ColumnInfer(network=network, store_client=store_client, csv_separator=sep)\n",
    "viewSearch = ViewSearchPruning(network=network, store_client=store_client, csv_separator=sep)\n",
    "\n",
    "demo = Demo(columnInfer, viewSearch, aurum_api)"
   ]
  },
  {
   "cell_type": "markdown",
   "id": "bc8a522f",
   "metadata": {},
   "source": [
    "# Keyword Search Interface"
   ]
  },
  {
   "cell_type": "code",
   "execution_count": 3,
   "id": "bdbed1e2",
   "metadata": {},
   "outputs": [
    {
     "data": {
      "application/javascript": [
       "if (typeof require !== 'undefined')\n",
       "    require.config({\n",
       "        paths: {\n",
       "            jquery: 'https://code.jquery.com/jquery-3.5.1.min',\n",
       "            datatables: 'https://cdn.datatables.net/1.11.3/js/jquery.dataTables.min',\n",
       "        }\n",
       "    });\n"
      ],
      "text/plain": [
       "<IPython.core.display.Javascript object>"
      ]
     },
     "metadata": {},
     "output_type": "display_data"
    },
    {
     "data": {
      "application/vnd.jupyter.widget-view+json": {
       "model_id": "ee81002a195f4d4b981acf8ec63f3807",
       "version_major": 2,
       "version_minor": 0
      },
      "text/plain": [
       "Tab(children=(HBox(children=(Text(value='', description='keyword', placeholder='name'), Button(description='se…"
      ]
     },
     "metadata": {},
     "output_type": "display_data"
    },
    {
     "data": {
      "application/vnd.jupyter.widget-view+json": {
       "model_id": "777750c8ed8b4c20879b85c5b10bb488",
       "version_major": 2,
       "version_minor": 0
      },
      "text/plain": [
       "Output()"
      ]
     },
     "metadata": {},
     "output_type": "display_data"
    }
   ],
   "source": [
    "demo.keyword_search()"
   ]
  },
  {
   "cell_type": "markdown",
   "id": "aa7c418e",
   "metadata": {},
   "source": [
    "# Query-By-Example Interface"
   ]
  },
  {
   "cell_type": "code",
   "execution_count": 4,
   "id": "f6bf62ff",
   "metadata": {},
   "outputs": [
    {
     "data": {
      "application/vnd.jupyter.widget-view+json": {
       "model_id": "0eb7b8f993ce417aa164bc9019e00427",
       "version_major": 2,
       "version_minor": 0
      },
      "text/plain": [
       "HBox(children=(Button(description='Add Column', style=ButtonStyle()), Button(description='Remove Column', styl…"
      ]
     },
     "metadata": {},
     "output_type": "display_data"
    },
    {
     "data": {
      "application/vnd.jupyter.widget-view+json": {
       "model_id": "093bb3ca9f504f3daa03a7cb76d8540f",
       "version_major": 2,
       "version_minor": 0
      },
      "text/plain": [
       "Output()"
      ]
     },
     "metadata": {},
     "output_type": "display_data"
    },
    {
     "data": {
      "application/vnd.jupyter.widget-view+json": {
       "model_id": "25a7d3a4a0b440009039fb2e2f474940",
       "version_major": 2,
       "version_minor": 0
      },
      "text/plain": [
       "Button(description='Confirm', style=ButtonStyle())"
      ]
     },
     "metadata": {},
     "output_type": "display_data"
    }
   ],
   "source": [
    "demo.define_a_view()"
   ]
  },
  {
   "cell_type": "code",
   "execution_count": 5,
   "id": "6f62e05d",
   "metadata": {},
   "outputs": [
    {
     "data": {
      "application/vnd.jupyter.widget-view+json": {
       "model_id": "7a58e56f948d459288f247aa176166ef",
       "version_major": 2,
       "version_minor": 0
      },
      "text/plain": [
       "HBox(children=(Button(description='Prev', style=ButtonStyle()), Button(description='Next', style=ButtonStyle()…"
      ]
     },
     "metadata": {},
     "output_type": "display_data"
    },
    {
     "data": {
      "application/vnd.jupyter.widget-view+json": {
       "model_id": "b9f3e9565ba1472c9446f1a4f5c4a58e",
       "version_major": 2,
       "version_minor": 0
      },
      "text/plain": [
       "Output()"
      ]
     },
     "metadata": {},
     "output_type": "display_data"
    }
   ],
   "source": [
    "demo.get_relevant_columns()"
   ]
  },
  {
   "cell_type": "code",
   "execution_count": 6,
   "id": "3ce151f6",
   "metadata": {},
   "outputs": [
    {
     "data": {
      "application/javascript": [
       "if (typeof require !== 'undefined')\n",
       "    require.config({\n",
       "        paths: {\n",
       "            jquery: 'https://code.jquery.com/jquery-3.5.1.min',\n",
       "            datatables: 'https://cdn.datatables.net/1.11.3/js/jquery.dataTables.min',\n",
       "        }\n",
       "    });\n"
      ],
      "text/plain": [
       "<IPython.core.display.Javascript object>"
      ]
     },
     "metadata": {},
     "output_type": "display_data"
    },
    {
     "name": "stderr",
     "output_type": "stream",
     "text": [
      "/home/cc/join_path_discovery/venv/lib/python3.6/site-packages/ipykernel_launcher.py:1: DtypeWarning: Columns (18,23,29,38,39) have mixed types.Specify dtype option on import or set low_memory=False.\n",
      "  \"\"\"Entry point for launching an IPython kernel.\n",
      "/home/cc/join_path_discovery/venv/lib/python3.6/site-packages/ipykernel_launcher.py:1: DtypeWarning: Columns (17,18,20,22,23,29,30,31,32,36,38,39) have mixed types.Specify dtype option on import or set low_memory=False.\n",
      "  \"\"\"Entry point for launching an IPython kernel.\n",
      "/home/cc/join_path_discovery/venv/lib/python3.6/site-packages/ipykernel_launcher.py:1: DtypeWarning: Columns (17,18,20,21,22,23,29,30,31,32,34,36,38,39) have mixed types.Specify dtype option on import or set low_memory=False.\n",
      "  \"\"\"Entry point for launching an IPython kernel.\n"
     ]
    },
    {
     "data": {
      "application/vnd.jupyter.widget-view+json": {
       "model_id": "e2e1183a8b5042a1bbc35d9e1eac22c8",
       "version_major": 2,
       "version_minor": 0
      },
      "text/plain": [
       "HBox(children=(Button(description='Prev', style=ButtonStyle()), Button(description='Next', style=ButtonStyle()…"
      ]
     },
     "metadata": {},
     "output_type": "display_data"
    },
    {
     "data": {
      "application/vnd.jupyter.widget-view+json": {
       "model_id": "e8dd11bfb05649a0b9585682ce0c99ad",
       "version_major": 2,
       "version_minor": 0
      },
      "text/plain": [
       "Output()"
      ]
     },
     "metadata": {},
     "output_type": "display_data"
    },
    {
     "name": "stdout",
     "output_type": "stream",
     "text": [
      "total views: 35\n"
     ]
    }
   ],
   "source": [
    "demo.show_views()"
   ]
  },
  {
   "cell_type": "code",
   "execution_count": null,
   "id": "e96a12fa",
   "metadata": {},
   "outputs": [],
   "source": []
  }
 ],
 "metadata": {
  "kernelspec": {
   "display_name": "metam",
   "language": "python",
   "name": "metam"
  },
  "language_info": {
   "codemirror_mode": {
    "name": "ipython",
    "version": 3
   },
   "file_extension": ".py",
   "mimetype": "text/x-python",
   "name": "python",
   "nbconvert_exporter": "python",
   "pygments_lexer": "ipython3",
   "version": "3.6.9"
  }
 },
 "nbformat": 4,
 "nbformat_minor": 5
}
