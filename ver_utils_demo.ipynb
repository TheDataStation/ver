{
 "cells": [
  {
   "cell_type": "code",
   "execution_count": null,
   "metadata": {},
   "outputs": [],
   "source": [
    "from ver_demo import Demo\n",
    "from knowledgerepr import fieldnetwork\n",
    "from modelstore.elasticstore import StoreHandler\n",
    "from algebra import API\n",
    "from ver_utils.column_selection import ColumnSelection\n",
    "from ver_utils.query_by_example import ExampleColumn, QueryByExample"
   ]
  },
  {
   "cell_type": "code",
   "execution_count": null,
   "metadata": {},
   "outputs": [],
   "source": [
    "graph_path = '/home/cc/advw_graph_02/'\n",
    "store_client = StoreHandler()\n",
    "network = fieldnetwork.deserialize_network(graph_path)\n",
    "aurum_api = API(network=network, store_client=store_client)\n",
    "demo = Demo(aurum_api)"
   ]
  },
  {
   "cell_type": "code",
   "execution_count": null,
   "metadata": {},
   "outputs": [],
   "source": [
    "demo.start()"
   ]
  },
  {
   "cell_type": "code",
   "execution_count": null,
   "metadata": {},
   "outputs": [],
   "source": [
    "column_selection = ColumnSelection(aurum_api)\n",
    "candidate_columns = column_selection.column_retreival(attr=\"\", examples=['USD', 'CNY'])\n",
    "for col in candidate_columns.values():\n",
    "    print(col.tbl_name, col.attr_name, col.examples_set)\n",
    "\n",
    "clusters = column_selection.cluster_columns(candidate_columns.values())\n",
    "\n",
    "for cluster in clusters:\n",
    "    print(cluster)"
   ]
  },
  {
   "cell_type": "code",
   "execution_count": null,
   "metadata": {},
   "outputs": [],
   "source": [
    "example_columns = [ExampleColumn(attr='', examples=['USA', 'China']), ExampleColumn(attr='', examples=['USD', 'RMB'])]\n",
    "qbe = QueryByExample(aurum_api)\n",
    "candidate_list = qbe.find_candidate_columns(example_columns)\n",
    "qbe.get_column_clusters(candidate_list)"
   ]
  },
  {
   "cell_type": "code",
   "execution_count": null,
   "metadata": {},
   "outputs": [],
   "source": [
    "for i, candidate in enumerate(candidate_list):\n",
    "    print(i)\n",
    "    for can in candidate:\n",
    "        print(can.tbl_name, can.attr_name)"
   ]
  },
  {
   "cell_type": "code",
   "execution_count": null,
   "metadata": {},
   "outputs": [],
   "source": [
    "join_paths = qbe.find_joins_between_candidate_columns(candidate_list)"
   ]
  },
  {
   "cell_type": "code",
   "execution_count": null,
   "metadata": {},
   "outputs": [],
   "source": [
    "for join_path in join_paths:\n",
    "    print(join_path)"
   ]
  },
  {
   "cell_type": "code",
   "execution_count": null,
   "metadata": {},
   "outputs": [],
   "source": [
    "import ddapi\n",
    "from api.apiutils import DRS, Relation\n",
    "hit = aurum_api._nid_to_hit('1357802409')\n",
    "print(hit)\n",
    "dd_api = ddapi.DDAPI(network)\n",
    "drs = dd_api.drs_from_hit(hit)\n",
    "res = aurum_api.neighbors(hit, Relation.CONTENT_SIM)\n",
    "for x in res:\n",
    "    print(x)"
   ]
  },
  {
   "cell_type": "code",
   "execution_count": null,
   "metadata": {},
   "outputs": [],
   "source": []
  }
 ],
 "metadata": {
  "kernelspec": {
   "display_name": "venv",
   "language": "python",
   "name": "venv"
  },
  "language_info": {
   "codemirror_mode": {
    "name": "ipython",
    "version": 3
   },
   "file_extension": ".py",
   "mimetype": "text/x-python",
   "name": "python",
   "nbconvert_exporter": "python",
   "pygments_lexer": "ipython3",
   "version": "3.6.9"
  },
  "vscode": {
   "interpreter": {
    "hash": "2fb261eea298a7c85b2d6bc4859c7e7049f2f8679536c1acbbbf9e11136db3f1"
   }
  }
 },
 "nbformat": 4,
 "nbformat_minor": 2
}
