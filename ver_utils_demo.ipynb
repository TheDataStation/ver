{
 "cells": [
  {
   "cell_type": "code",
   "execution_count": null,
   "metadata": {},
   "outputs": [],
   "source": [
    "from ver_demo import Demo\n",
    "from knowledgerepr import fieldnetwork\n",
    "from modelstore.elasticstore import StoreHandler\n",
    "from algebra import API\n",
    "from ver_utils.column_selection import ColumnSelection\n",
    "from ver_utils.query_by_example import ExampleColumn, QueryByExample\n",
    "from ver_utils.materializer import Materializer"
   ]
  },
  {
   "cell_type": "code",
   "execution_count": null,
   "metadata": {},
   "outputs": [],
   "source": [
    "graph_path = '/home/cc/advw_graph_02/'\n",
    "store_client = StoreHandler()\n",
    "network = fieldnetwork.deserialize_network(graph_path)\n",
    "aurum_api = API(network=network, store_client=store_client)\n",
    "demo = Demo(aurum_api)"
   ]
  },
  {
   "cell_type": "code",
   "execution_count": null,
   "metadata": {},
   "outputs": [],
   "source": [
    "demo.qbe_interface()"
   ]
  },
  {
   "cell_type": "code",
   "execution_count": null,
   "metadata": {},
   "outputs": [],
   "source": [
    "column_selection = ColumnSelection(aurum_api)\n",
    "candidate_columns = column_selection.column_retreival(attr=\"\", examples=['USD', 'CNY'])\n",
    "for col in candidate_columns.values():\n",
    "    print(col.tbl_name, col.attr_name, col.examples_set)"
   ]
  },
  {
   "cell_type": "code",
   "execution_count": null,
   "metadata": {},
   "outputs": [],
   "source": [
    "example_columns = [ExampleColumn(attr='', examples=['United States', 'China']), ExampleColumn(attr='', examples=['USD', 'CNY'])]\n",
    "qbe = QueryByExample(aurum_api)\n",
    "candidate_list = qbe.find_candidate_columns(example_columns)\n",
    "for candidate in candidate_list:\n",
    "    print('00000')\n",
    "    for x in candidate:\n",
    "        print(x.tbl_name, x.attr_name)"
   ]
  },
  {
   "cell_type": "code",
   "execution_count": null,
   "metadata": {},
   "outputs": [],
   "source": [
    "join_paths = qbe.find_joins_between_candidate_columns(candidate_list)"
   ]
  },
  {
   "cell_type": "code",
   "execution_count": null,
   "metadata": {},
   "outputs": [],
   "source": [
    "for join_path in join_paths:\n",
    "    print(join_path.to_str())"
   ]
  },
  {
   "cell_type": "code",
   "execution_count": null,
   "metadata": {},
   "outputs": [],
   "source": [
    "materializer = Materializer(table_path='/home/cc/adventureWork/', sample_size=1000)\n",
    "materializer.materialize(join_paths[1])"
   ]
  },
  {
   "cell_type": "code",
   "execution_count": null,
   "metadata": {},
   "outputs": [],
   "source": [
    "import ddapi\n",
    "from api.apiutils import DRS, Relation\n",
    "hit = aurum_api._nid_to_hit('1357802409')\n",
    "print(hit)\n",
    "dd_api = ddapi.DDAPI(network)\n",
    "drs = dd_api.drs_from_hit(hit)\n",
    "res = aurum_api.neighbors(hit, Relation.CONTENT_SIM)\n",
    "for x in res:\n",
    "    print(x)"
   ]
  },
  {
   "cell_type": "code",
   "execution_count": null,
   "metadata": {},
   "outputs": [],
   "source": []
  }
 ],
 "metadata": {
  "kernelspec": {
   "display_name": "venv",
   "language": "python",
   "name": "venv"
  },
  "language_info": {
   "codemirror_mode": {
    "name": "ipython",
    "version": 3
   },
   "file_extension": ".py",
   "mimetype": "text/x-python",
   "name": "python",
   "nbconvert_exporter": "python",
   "pygments_lexer": "ipython3",
   "version": "3.6.9"
  },
  "vscode": {
   "interpreter": {
    "hash": "2fb261eea298a7c85b2d6bc4859c7e7049f2f8679536c1acbbbf9e11136db3f1"
   }
  }
 },
 "nbformat": 4,
 "nbformat_minor": 2
}
