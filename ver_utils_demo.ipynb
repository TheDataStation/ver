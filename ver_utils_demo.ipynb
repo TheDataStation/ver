{
 "cells": [
  {
   "cell_type": "code",
   "execution_count": 1,
   "metadata": {},
   "outputs": [],
   "source": [
    "from knowledgerepr import fieldnetwork\n",
    "from modelstore.elasticstore import StoreHandler\n",
    "from algebra import API\n",
    "from qbe_module.column_selection import ColumnSelection\n",
    "from qbe_module.query_by_example import ExampleColumn, QueryByExample\n",
    "from qbe_module.materializer import Materializer\n"
   ]
  },
  {
   "cell_type": "code",
   "execution_count": 2,
   "metadata": {},
   "outputs": [],
   "source": [
    "graph_path = '/home/cc/advw_graph_02/'\n",
    "store_client = StoreHandler()\n",
    "network = fieldnetwork.deserialize_network(graph_path)\n",
    "aurum_api = API(network=network, store_client=store_client)\n",
    "demo = Demo(aurum_api)"
   ]
  },
  {
   "cell_type": "code",
   "execution_count": 3,
   "metadata": {},
   "outputs": [
    {
     "data": {
      "application/vnd.jupyter.widget-view+json": {
       "model_id": "e0cdaf1f93ab4fd9b1d01851d9014fb5",
       "version_major": 2,
       "version_minor": 0
      },
      "text/plain": [
       "HBox(children=(Button(description='Add Column', style=ButtonStyle()), Button(description='Remove Column', styl…"
      ]
     },
     "metadata": {},
     "output_type": "display_data"
    },
    {
     "data": {
      "application/vnd.jupyter.widget-view+json": {
       "model_id": "ea92c5a4c82a4ca3a23efbc924188a31",
       "version_major": 2,
       "version_minor": 0
      },
      "text/plain": [
       "Output()"
      ]
     },
     "metadata": {},
     "output_type": "display_data"
    },
    {
     "data": {
      "application/vnd.jupyter.widget-view+json": {
       "model_id": "6aa6f9cfd446405aa0828748406b74a9",
       "version_major": 2,
       "version_minor": 0
      },
      "text/plain": [
       "Button(description='Confirm', style=ButtonStyle())"
      ]
     },
     "metadata": {},
     "output_type": "display_data"
    }
   ],
   "source": [
    "demo.qbe_interface()"
   ]
  },
  {
   "cell_type": "code",
   "execution_count": 4,
   "metadata": {},
   "outputs": [
    {
     "name": "stdout",
     "output_type": "stream",
     "text": [
      "CurrencyRate.csv ToCurrencyCode {'CNY', 'USD'}\n",
      "Password.csv PasswordSalt {'CNY'}\n",
      "Currency.csv CurrencyCode {'CNY', 'USD'}\n",
      "CountryRegionCurrency.csv CurrencyCode {'CNY', 'USD'}\n",
      "CurrencyRate.csv FromCurrencyCode {'USD'}\n",
      "Password.csv PasswordHash {'USD'}\n"
     ]
    }
   ],
   "source": [
    "column_selection = ColumnSelection(aurum_api)\n",
    "candidate_columns = column_selection.column_retreival(attr=\"\", examples=['USD', 'CNY'])\n",
    "for col in candidate_columns.values():\n",
    "    print(col.tbl_name, col.attr_name, col.examples_set)"
   ]
  },
  {
   "cell_type": "code",
   "execution_count": 5,
   "metadata": {},
   "outputs": [
    {
     "name": "stdout",
     "output_type": "stream",
     "text": [
      "00000\n",
      "CountryRegion.csv Name\n",
      "00000\n",
      "CurrencyRate.csv ToCurrencyCode\n",
      "Password.csv PasswordSalt\n",
      "Currency.csv CurrencyCode\n",
      "CountryRegionCurrency.csv CurrencyCode\n",
      "CurrencyRate.csv FromCurrencyCode\n",
      "Password.csv PasswordHash\n",
      "00000\n",
      "Currency.csv Name\n"
     ]
    }
   ],
   "source": [
    "example_columns = [ExampleColumn(attr='', examples=['United States', 'China']), \n",
    "                   ExampleColumn(attr='', examples=['USD', 'CNY']),\n",
    "                   ExampleColumn(attr='', examples=['US Dollar', 'Yuan Renminbi'])]\n",
    "qbe = QueryByExample(aurum_api)\n",
    "candidate_list = qbe.find_candidate_columns(example_columns)\n",
    "for candidate in candidate_list:\n",
    "    print('00000')\n",
    "    for x in candidate:\n",
    "        print(x.tbl_name, x.attr_name)"
   ]
  },
  {
   "cell_type": "code",
   "execution_count": 6,
   "metadata": {},
   "outputs": [
    {
     "name": "stdout",
     "output_type": "stream",
     "text": [
      "((0, 1), (0, 2))\n",
      "{(0, 1): defaultdict(<class 'list'>, {'CountryRegion.csv': [<ver_utils.join_path_search.JoinPath object at 0x7faf7e5c0e10>, <ver_utils.join_path_search.JoinPath object at 0x7faf7e5c0b70>]}), (1, 0): defaultdict(<class 'list'>, {'CountryRegion.csv': [<ver_utils.join_path_search.JoinPath object at 0x7faf7e5c0e10>, <ver_utils.join_path_search.JoinPath object at 0x7faf7e5c0b70>]}), (0, 2): defaultdict(<class 'list'>, {'CountryRegion.csv': [<ver_utils.join_path_search.JoinPath object at 0x7faf7e76cf28>]}), (2, 0): defaultdict(<class 'list'>, {'CountryRegion.csv': [<ver_utils.join_path_search.JoinPath object at 0x7faf7e76cf28>]})}\n",
      "[(1, 0), (0, 2)]\n",
      "[(1, 0), (0, 2)]\n",
      "[(1, 0), (0, 2)]\n",
      "((0, 1), (1, 2))\n",
      "{(0, 1): defaultdict(<class 'list'>, {'CountryRegion.csv': [<ver_utils.join_path_search.JoinPath object at 0x7faf7e5c0e10>, <ver_utils.join_path_search.JoinPath object at 0x7faf7e5c0b70>]}), (1, 0): defaultdict(<class 'list'>, {'CountryRegion.csv': [<ver_utils.join_path_search.JoinPath object at 0x7faf7e5c0e10>, <ver_utils.join_path_search.JoinPath object at 0x7faf7e5c0b70>]}), (1, 2): defaultdict(<class 'list'>, {'CurrencyRate.csv': [<ver_utils.join_path_search.JoinPath object at 0x7faf7e76c240>, <ver_utils.join_path_search.JoinPath object at 0x7fb262190358>], 'Password.csv': [], 'Currency.csv': [<ver_utils.join_path_search.JoinPath object at 0x7faf7e5f4908>], 'CountryRegionCurrency.csv': [<ver_utils.join_path_search.JoinPath object at 0x7fb262190b70>]}), (2, 1): defaultdict(<class 'list'>, {'CurrencyRate.csv': [<ver_utils.join_path_search.JoinPath object at 0x7faf7e76c240>, <ver_utils.join_path_search.JoinPath object at 0x7fb262190358>], 'Password.csv': [], 'Currency.csv': [<ver_utils.join_path_search.JoinPath object at 0x7faf7e5f4908>], 'CountryRegionCurrency.csv': [<ver_utils.join_path_search.JoinPath object at 0x7fb262190b70>]})}\n",
      "[(0, 1), (1, 2)]\n",
      "[(0, 1), (1, 2)]\n",
      "[(0, 1), (1, 2)]\n",
      "[(0, 1), (1, 2)]\n",
      "[(0, 1), (1, 2)]\n",
      "2\n",
      "(0, 1) <ver_utils.join_path_search.JoinPath object at 0x7faf7e593198>\n",
      "(1, 2) <ver_utils.join_path_search.JoinPath object at 0x7faf7e5937b8>\n",
      "2\n",
      "(0, 1) <ver_utils.join_path_search.JoinPath object at 0x7faf7e5934a8>\n",
      "(1, 2) <ver_utils.join_path_search.JoinPath object at 0x7faf7e593dd8>\n",
      "((0, 2), (1, 2))\n",
      "{(0, 2): defaultdict(<class 'list'>, {'CountryRegion.csv': [<ver_utils.join_path_search.JoinPath object at 0x7faf7e76cf28>]}), (2, 0): defaultdict(<class 'list'>, {'CountryRegion.csv': [<ver_utils.join_path_search.JoinPath object at 0x7faf7e76cf28>]}), (1, 2): defaultdict(<class 'list'>, {'CurrencyRate.csv': [<ver_utils.join_path_search.JoinPath object at 0x7faf7e76c240>, <ver_utils.join_path_search.JoinPath object at 0x7fb262190358>], 'Password.csv': [], 'Currency.csv': [<ver_utils.join_path_search.JoinPath object at 0x7faf7e5f4908>], 'CountryRegionCurrency.csv': [<ver_utils.join_path_search.JoinPath object at 0x7fb262190b70>]}), (2, 1): defaultdict(<class 'list'>, {'CurrencyRate.csv': [<ver_utils.join_path_search.JoinPath object at 0x7faf7e76c240>, <ver_utils.join_path_search.JoinPath object at 0x7fb262190358>], 'Password.csv': [], 'Currency.csv': [<ver_utils.join_path_search.JoinPath object at 0x7faf7e5f4908>], 'CountryRegionCurrency.csv': [<ver_utils.join_path_search.JoinPath object at 0x7fb262190b70>]})}\n",
      "[(0, 2), (2, 1)]\n",
      "[(0, 2), (2, 1)]\n",
      "[(0, 2), (2, 1)]\n",
      "2\n",
      "(0, 2) <ver_utils.join_path_search.JoinPath object at 0x7faf7e5c0b38>\n",
      "(2, 1) <ver_utils.join_path_search.JoinPath object at 0x7faf7e5c09e8>\n",
      "[<ver_utils.join_graph_search.JoinGraph object at 0x7fb2600b3fd0>, <ver_utils.join_graph_search.JoinGraph object at 0x7faf7e5c0c50>, <ver_utils.join_graph_search.JoinGraph object at 0x7faf7e5c0550>]\n"
     ]
    }
   ],
   "source": [
    "join_graphs = qbe.find_join_graphs_between_candidate_columns(candidate_list)\n",
    "print(join_graphs)"
   ]
  },
  {
   "cell_type": "code",
   "execution_count": 7,
   "metadata": {},
   "outputs": [
    {
     "name": "stdout",
     "output_type": "stream",
     "text": [
      "==============\n",
      "CountryRegion.csv.CountryRegionCode JOIN CountryRegionCurrency.csv.CountryRegionCode\n",
      "---------------\n",
      "CountryRegionCurrency.csv.CurrencyCode JOIN Currency.csv.CurrencyCode\n",
      "---------------\n",
      "==============\n",
      "CountryRegion.csv.CountryRegionCode JOIN CountryRegionCurrency.csv.CountryRegionCode\n",
      "CountryRegionCurrency.csv.CurrencyCode JOIN Currency.csv.CurrencyCode\n",
      "---------------\n",
      "Currency.csv.CurrencyCode JOIN Currency.csv.CurrencyCode\n",
      "---------------\n",
      "==============\n",
      "CountryRegion.csv.CountryRegionCode JOIN CountryRegionCurrency.csv.CountryRegionCode\n",
      "CountryRegionCurrency.csv.CurrencyCode JOIN Currency.csv.CurrencyCode\n",
      "---------------\n",
      "Currency.csv.CurrencyCode JOIN Currency.csv.CurrencyCode\n",
      "---------------\n"
     ]
    }
   ],
   "source": [
    "for join_graph in join_graphs:\n",
    "    print(\"==============\")\n",
    "    for join_path in join_graph.paths:\n",
    "        print(join_path.to_str())\n",
    "        print(\"---------------\")"
   ]
  },
  {
   "cell_type": "code",
   "execution_count": 9,
   "metadata": {},
   "outputs": [
    {
     "name": "stdout",
     "output_type": "stream",
     "text": [
      "{(0, 1): <ver_utils.join_path_search.JoinPath object at 0x7faf7e593198>, (1, 2): <ver_utils.join_path_search.JoinPath object at 0x7faf7e5937b8>}\n",
      "defaultdict(<class 'set'>, {'CountryRegion.csv': {'Name'}, 'CountryRegionCurrency.csv': {'CurrencyCode'}, 'Currency.csv': {'Name'}})\n"
     ]
    },
    {
     "data": {
      "text/html": [
       "<div>\n",
       "<style scoped>\n",
       "    .dataframe tbody tr th:only-of-type {\n",
       "        vertical-align: middle;\n",
       "    }\n",
       "\n",
       "    .dataframe tbody tr th {\n",
       "        vertical-align: top;\n",
       "    }\n",
       "\n",
       "    .dataframe thead th {\n",
       "        text-align: right;\n",
       "    }\n",
       "</style>\n",
       "<table border=\"1\" class=\"dataframe\">\n",
       "  <thead>\n",
       "    <tr style=\"text-align: right;\">\n",
       "      <th></th>\n",
       "      <th>Name</th>\n",
       "      <th>CurrencyCode</th>\n",
       "      <th>Name</th>\n",
       "    </tr>\n",
       "  </thead>\n",
       "  <tbody>\n",
       "    <tr>\n",
       "      <th>0</th>\n",
       "      <td>Emirati Dirham</td>\n",
       "      <td>AED</td>\n",
       "      <td>Emirati Dirham</td>\n",
       "    </tr>\n",
       "    <tr>\n",
       "      <th>1</th>\n",
       "      <td>Argentine Peso</td>\n",
       "      <td>ARS</td>\n",
       "      <td>Argentine Peso</td>\n",
       "    </tr>\n",
       "    <tr>\n",
       "      <th>2</th>\n",
       "      <td>Shilling</td>\n",
       "      <td>ATS</td>\n",
       "      <td>Shilling</td>\n",
       "    </tr>\n",
       "    <tr>\n",
       "      <th>3</th>\n",
       "      <td>EURO</td>\n",
       "      <td>EUR</td>\n",
       "      <td>EURO</td>\n",
       "    </tr>\n",
       "    <tr>\n",
       "      <th>4</th>\n",
       "      <td>EURO</td>\n",
       "      <td>EUR</td>\n",
       "      <td>EURO</td>\n",
       "    </tr>\n",
       "    <tr>\n",
       "      <th>...</th>\n",
       "      <td>...</td>\n",
       "      <td>...</td>\n",
       "      <td>...</td>\n",
       "    </tr>\n",
       "    <tr>\n",
       "      <th>104</th>\n",
       "      <td>Uruguayan Peso</td>\n",
       "      <td>UYU</td>\n",
       "      <td>Uruguayan Peso</td>\n",
       "    </tr>\n",
       "    <tr>\n",
       "      <th>105</th>\n",
       "      <td>Bolivar</td>\n",
       "      <td>VEB</td>\n",
       "      <td>Bolivar</td>\n",
       "    </tr>\n",
       "    <tr>\n",
       "      <th>106</th>\n",
       "      <td>Dong</td>\n",
       "      <td>VND</td>\n",
       "      <td>Dong</td>\n",
       "    </tr>\n",
       "    <tr>\n",
       "      <th>107</th>\n",
       "      <td>Rand</td>\n",
       "      <td>ZAR</td>\n",
       "      <td>Rand</td>\n",
       "    </tr>\n",
       "    <tr>\n",
       "      <th>108</th>\n",
       "      <td>Zimbabwe Dollar</td>\n",
       "      <td>ZWD</td>\n",
       "      <td>Zimbabwe Dollar</td>\n",
       "    </tr>\n",
       "  </tbody>\n",
       "</table>\n",
       "<p>109 rows × 3 columns</p>\n",
       "</div>"
      ],
      "text/plain": [
       "                Name CurrencyCode             Name\n",
       "0     Emirati Dirham          AED   Emirati Dirham\n",
       "1     Argentine Peso          ARS   Argentine Peso\n",
       "2           Shilling          ATS         Shilling\n",
       "3               EURO          EUR             EURO\n",
       "4               EURO          EUR             EURO\n",
       "..               ...          ...              ...\n",
       "104   Uruguayan Peso          UYU   Uruguayan Peso\n",
       "105          Bolivar          VEB          Bolivar\n",
       "106             Dong          VND             Dong\n",
       "107             Rand          ZAR             Rand\n",
       "108  Zimbabwe Dollar          ZWD  Zimbabwe Dollar\n",
       "\n",
       "[109 rows x 3 columns]"
      ]
     },
     "execution_count": 9,
     "metadata": {},
     "output_type": "execute_result"
    }
   ],
   "source": [
    "materializer = Materializer(table_path='/home/cc/adventureWork/', sample_size=1000)\n",
    "materializer.materialize_join_graph(join_graphs[0])"
   ]
  },
  {
   "cell_type": "code",
   "execution_count": 8,
   "metadata": {},
   "outputs": [
    {
     "name": "stdout",
     "output_type": "stream",
     "text": [
      "<ver_utils.column.Column object at 0x7f446754dba8>\n",
      "[<ver_utils.join_path_search.JoinPath object at 0x7f44675b3eb8>, <ver_utils.join_path_search.JoinPath object at 0x7f44675b3e48>]\n"
     ]
    }
   ],
   "source": [
    "join_paths = qbe.find_joins_between_candidate_columns(candidate_list)"
   ]
  },
  {
   "cell_type": "code",
   "execution_count": null,
   "metadata": {},
   "outputs": [],
   "source": []
  },
  {
   "cell_type": "code",
   "execution_count": 9,
   "metadata": {},
   "outputs": [
    {
     "name": "stdout",
     "output_type": "stream",
     "text": [
      "CountryRegion.csv.CountryRegionCode JOIN CountryRegionCurrency.csv.CountryRegionCode\n",
      "CountryRegion.csv.CountryRegionCode JOIN CountryRegionCurrency.csv.CountryRegionCode\n",
      "CountryRegionCurrency.csv.CurrencyCode JOIN Currency.csv.CurrencyCode\n"
     ]
    }
   ],
   "source": [
    "for join_path in join_paths:\n",
    "    print(join_path.to_str())"
   ]
  },
  {
   "cell_type": "code",
   "execution_count": null,
   "metadata": {},
   "outputs": [],
   "source": [
    "import ddapi\n",
    "from api.apiutils import DRS, Relation\n",
    "hit = aurum_api._nid_to_hit('1357802409')\n",
    "print(hit)\n",
    "dd_api = ddapi.DDAPI(network)\n",
    "drs = dd_api.drs_from_hit(hit)\n",
    "res = aurum_api.neighbors(hit, Relation.CONTENT_SIM)\n",
    "for x in res:\n",
    "    print(x)"
   ]
  },
  {
   "cell_type": "code",
   "execution_count": null,
   "metadata": {},
   "outputs": [],
   "source": []
  }
 ],
 "metadata": {
  "kernelspec": {
   "display_name": "venv",
   "language": "python",
   "name": "python3"
  },
  "language_info": {
   "codemirror_mode": {
    "name": "ipython",
    "version": 3
   },
   "file_extension": ".py",
   "mimetype": "text/x-python",
   "name": "python",
   "nbconvert_exporter": "python",
   "pygments_lexer": "ipython3",
   "version": "3.6.9"
  },
  "vscode": {
   "interpreter": {
    "hash": "2fb261eea298a7c85b2d6bc4859c7e7049f2f8679536c1acbbbf9e11136db3f1"
   }
  }
 },
 "nbformat": 4,
 "nbformat_minor": 2
}
