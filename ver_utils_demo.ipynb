{
 "cells": [
  {
   "cell_type": "code",
   "execution_count": 1,
   "metadata": {},
   "outputs": [],
   "source": [
    "from niffler_demo import Demo\n",
    "from knowledgerepr import fieldnetwork\n",
    "from modelstore.elasticstore import StoreHandler\n",
    "from algebra import API\n",
    "from ver_utils.column_selection import ColumnSelection"
   ]
  },
  {
   "cell_type": "code",
   "execution_count": 2,
   "metadata": {},
   "outputs": [],
   "source": [
    "graph_path = '/home/cc/advw_graph/'\n",
    "store_client = StoreHandler()\n",
    "network = fieldnetwork.deserialize_network(graph_path)\n",
    "aurum_api = API(network=network, store_client=store_client)"
   ]
  },
  {
   "cell_type": "code",
   "execution_count": 3,
   "metadata": {},
   "outputs": [
    {
     "name": "stdout",
     "output_type": "stream",
     "text": [
      "{'2898653797': <ver_utils.column.Column object at 0x7f29fd601b00>, '4111388216': <ver_utils.column.Column object at 0x7f29fd56ad30>}\n"
     ]
    }
   ],
   "source": [
    "column_selection = ColumnSelection(aurum_api)\n",
    "candidate_columns = column_selection.column_retreival(attr=\"\", examples=['USA', 'China'])\n",
    "print(candidate_columns)"
   ]
  }
 ],
 "metadata": {
  "kernelspec": {
   "display_name": "Python 3.6.9 ('venv': venv)",
   "language": "python",
   "name": "python3"
  },
  "language_info": {
   "codemirror_mode": {
    "name": "ipython",
    "version": 3
   },
   "file_extension": ".py",
   "mimetype": "text/x-python",
   "name": "python",
   "nbconvert_exporter": "python",
   "pygments_lexer": "ipython3",
   "version": "3.6.9"
  },
  "orig_nbformat": 4,
  "vscode": {
   "interpreter": {
    "hash": "2fb261eea298a7c85b2d6bc4859c7e7049f2f8679536c1acbbbf9e11136db3f1"
   }
  }
 },
 "nbformat": 4,
 "nbformat_minor": 2
}
